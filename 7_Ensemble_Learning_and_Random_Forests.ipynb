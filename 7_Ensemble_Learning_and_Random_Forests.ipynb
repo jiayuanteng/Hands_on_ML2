{
  "nbformat": 4,
  "nbformat_minor": 0,
  "metadata": {
    "colab": {
      "name": "7. Ensemble Learning and Random Forests.ipynb",
      "provenance": [],
      "authorship_tag": "ABX9TyO81X0oKmPzLmgGxXObWzZS",
      "include_colab_link": true
    },
    "kernelspec": {
      "name": "python3",
      "display_name": "Python 3"
    },
    "language_info": {
      "name": "python"
    }
  },
  "cells": [
    {
      "cell_type": "markdown",
      "metadata": {
        "id": "view-in-github",
        "colab_type": "text"
      },
      "source": [
        "<a href=\"https://colab.research.google.com/github/jiayuanteng/Hands_on_ML2/blob/main/7_Ensemble_Learning_and_Random_Forests.ipynb\" target=\"_parent\"><img src=\"https://colab.research.google.com/assets/colab-badge.svg\" alt=\"Open In Colab\"/></a>"
      ]
    },
    {
      "cell_type": "markdown",
      "source": [
        "# Ensemble learning\n",
        "A group of predictors is called an ensemble; and an Ensemble Learning algorithm is called an Ensemble method\n",
        "\n",
        "1. Ensemble method works best when the predictors are as independent from one another as possible,\n",
        "2. Another method is to use bagging/pasting to train the same classifer on random samples of the training data and ensemble the classifers to predict for a new instance by aggregating the predictions of all the classifiers. \n"
      ],
      "metadata": {
        "id": "xgak55UrP8dX"
      }
    },
    {
      "cell_type": "markdown",
      "source": [
        "## Voting classifiers\n",
        "1. The majority-vote classifier is called a *hard voting* classifier.\n",
        "2. If each classifier is able to estimate class probabilities (i.e., they all have a predict_proba() method), use sklearn to predict the class with the highest class probability, averaged over all the individual classifiers. This is called *soft voting* "
      ],
      "metadata": {
        "id": "JJLYrBOhQrgp"
      }
    },
    {
      "cell_type": "code",
      "source": [
        "from sklearn.ensemble import RandomForestClassifier\n",
        "from sklearn.ensemble import VotingClassifier\n",
        "from sklearn.linear_model import LogisticRegression\n",
        "from sklearn.svm import SVC\n",
        "\n",
        "from sklearn.model_selection import train_test_split\n",
        "from sklearn.datasets import make_moons\n",
        "\n",
        "X, y = make_moons(n_samples=500, noise=0.30, random_state=42)\n",
        "X_train, X_test, y_train, y_test = train_test_split(X, y, random_state=42)"
      ],
      "metadata": {
        "id": "SfIEtiwcP7a0"
      },
      "execution_count": null,
      "outputs": []
    },
    {
      "cell_type": "code",
      "execution_count": null,
      "metadata": {
        "colab": {
          "base_uri": "https://localhost:8080/"
        },
        "id": "xtv5bnF0NDa9",
        "outputId": "a4b66fde-69e3-4bde-dd6e-555fe27e8bdd"
      },
      "outputs": [
        {
          "output_type": "execute_result",
          "data": {
            "text/plain": [
              "VotingClassifier(estimators=[('lr', LogisticRegression()),\n",
              "                             ('rf', RandomForestClassifier()), ('svc', SVC())])"
            ]
          },
          "metadata": {},
          "execution_count": 2
        }
      ],
      "source": [
        "# hard voting\n",
        "\n",
        "log_clf = LogisticRegression()\n",
        "rnd_clf = RandomForestClassifier()\n",
        "svm_clf = SVC()\n",
        "\n",
        "voting_clf = VotingClassifier(\n",
        "    estimators = [('lr', log_clf), ('rf', rnd_clf), ('svc', svm_clf)],\n",
        "    voting = 'hard'\n",
        ")\n",
        "voting_clf.fit(X_train, y_train)\n",
        "\n"
      ]
    },
    {
      "cell_type": "markdown",
      "source": [
        "Accuracy score is the fraction of samples predicted correctly: $(TP+TN)/(TP+TN_FP+FN)$"
      ],
      "metadata": {
        "id": "aDula7sxTEni"
      }
    },
    {
      "cell_type": "code",
      "source": [
        "from sklearn.metrics import accuracy_score\n",
        "\n",
        "print(\"Invidual classifers compared to hard voting classifier\")\n",
        "for clf in [log_clf, rnd_clf, svm_clf, voting_clf]:\n",
        "  clf.fit(X_train, y_train)\n",
        "  y_pred = clf.predict(X_test)\n",
        "  \n",
        "\n",
        "  print(clf.__class__.__name__, accuracy_score(y_test, y_pred))"
      ],
      "metadata": {
        "colab": {
          "base_uri": "https://localhost:8080/"
        },
        "id": "0-erOhrsRa1W",
        "outputId": "6f5a69e9-2ead-4e26-a842-30e116708853"
      },
      "execution_count": null,
      "outputs": [
        {
          "output_type": "stream",
          "name": "stdout",
          "text": [
            "Invidual classifers compared to hard voting classifier\n",
            "LogisticRegression 0.864\n",
            "RandomForestClassifier 0.888\n",
            "SVC 0.896\n",
            "VotingClassifier 0.896\n"
          ]
        }
      ]
    },
    {
      "cell_type": "code",
      "source": [
        "# soft voting\n",
        "# hard voting\n",
        "\n",
        "log_clf = LogisticRegression()\n",
        "rnd_clf = RandomForestClassifier()\n",
        "svm_clf = SVC(probability=True)\n",
        "\n",
        "voting_clf = VotingClassifier(\n",
        "    estimators = [('lr', log_clf), ('rf', rnd_clf), ('svc', svm_clf)],\n",
        "    voting = 'soft'\n",
        ")\n",
        "\n",
        "\n",
        "print(\"Invidual classifers compared to soft voting classifier\")\n",
        "for clf in [log_clf, rnd_clf, svm_clf, voting_clf]:\n",
        "  clf.fit(X_train, y_train)\n",
        "  y_pred = clf.predict(X_test)\n",
        "  \n",
        "\n",
        "  print(clf.__class__.__name__, accuracy_score(y_test, y_pred))\n"
      ],
      "metadata": {
        "colab": {
          "base_uri": "https://localhost:8080/"
        },
        "id": "RfidOkieSEcY",
        "outputId": "ca204b03-8650-48a8-bcac-25cd16f0bef6"
      },
      "execution_count": null,
      "outputs": [
        {
          "output_type": "stream",
          "name": "stdout",
          "text": [
            "Invidual classifers compared to soft voting classifier\n",
            "LogisticRegression 0.864\n",
            "RandomForestClassifier 0.888\n",
            "SVC 0.896\n",
            "VotingClassifier 0.92\n"
          ]
        }
      ]
    },
    {
      "cell_type": "markdown",
      "source": [
        "## Bagging and pasting\n",
        "Another method is to use the same training algorithm for every predictor and train them on different random subsets of the training set. Once all predictors are trained, the ensemble can make a prediction for a new instance by simply aggregating the predictions of all predictors. \n",
        "\n",
        "1. ***Bagging***: when sampling is performed *with* replacement\n",
        "2. ***Pasting***: when sampling is performed *without* replacement\n",
        "\n",
        "Set bootstrap in BaggingClassifier to be false to use Pasting. \n",
        "\n",
        "n_estimator sets # of the classifiers to train. max_samples set # of instances uses to train each classifier. set n_jobs = -1 to use all of the CPU cores. \n",
        "\n",
        "The BaggingClassifier automatically performs soft voting instead of hard voting if the base classifier can estimate class probabilities. "
      ],
      "metadata": {
        "id": "MGAxA6S1VcLA"
      }
    },
    {
      "cell_type": "code",
      "source": [
        "from sklearn.ensemble import BaggingClassifier\n",
        "from sklearn.tree import DecisionTreeClassifier\n",
        "\n",
        "bag_clf = BaggingClassifier(\n",
        "    DecisionTreeClassifier(), n_estimators=500, \n",
        "    max_samples = 100, bootstrap=True, n_jobs = -1\n",
        ")\n",
        "\n",
        "bag_clf.fit(X_train, y_train)\n",
        "y_pred = bag_clf.predict(X_test)"
      ],
      "metadata": {
        "id": "rAZsoDMnU-Ci"
      },
      "execution_count": null,
      "outputs": []
    },
    {
      "cell_type": "code",
      "source": [
        "y_pred"
      ],
      "metadata": {
        "colab": {
          "base_uri": "https://localhost:8080/"
        },
        "id": "l00060uoYCQI",
        "outputId": "b9d72242-c6b7-4b4c-e68b-c4631f21da4b"
      },
      "execution_count": null,
      "outputs": [
        {
          "output_type": "execute_result",
          "data": {
            "text/plain": [
              "array([0, 0, 0, 1, 1, 1, 0, 0, 0, 0, 1, 0, 1, 1, 1, 0, 0, 1, 1, 0, 0, 1,\n",
              "       1, 0, 0, 0, 1, 0, 1, 0, 1, 1, 0, 0, 1, 0, 0, 1, 1, 1, 0, 1, 0, 0,\n",
              "       0, 0, 1, 0, 1, 0, 1, 1, 0, 0, 1, 0, 1, 1, 0, 1, 0, 1, 1, 0, 1, 0,\n",
              "       0, 0, 0, 1, 0, 0, 1, 1, 0, 0, 1, 1, 0, 0, 1, 1, 1, 0, 1, 1, 1, 0,\n",
              "       1, 1, 1, 0, 0, 0, 0, 1, 0, 1, 0, 1, 0, 1, 1, 0, 0, 0, 0, 0, 1, 1,\n",
              "       1, 0, 0, 1, 0, 0, 0, 0, 0, 1, 1, 1, 0, 0, 0])"
            ]
          },
          "metadata": {},
          "execution_count": 6
        }
      ]
    },
    {
      "cell_type": "code",
      "source": [
        "from matplotlib.colors import ListedColormap\n",
        "import matplotlib.pyplot as plt\n",
        "import numpy as np\n",
        "\n",
        "def plot_decision_boundary(clf, X, y, axes = [0, 7.5, 0, 3], iris = True, legend = False, \n",
        "                           plot_training = True):\n",
        "  x1s = np.linspace(axes[0], axes[1], 100)\n",
        "  x2s = np.linspace(axes[2], axes[3], 100)\n",
        "  x1, x2 = np.meshgrid(x1s, x2s)\n",
        "  X_new = np.c_[x1.ravel(), x2.ravel()]\n",
        "  y_pred = clf.predict(X_new).reshape(x1.shape)\n",
        "  custom_cmap = ListedColormap(['#fafab0','#9898ff','#a0faa0'])\n",
        "  plt.contourf(x1, x2, y_pred, alpha = 0.3, cmap = custom_cmap)\n",
        "  if not iris:\n",
        "    custom_cmap2 = ListedColormap(['#7d7d58','#4c4c7f','#507d50'])\n",
        "    plt.contour(x1, x2, y_pred, alpha = 0.3, cmap = custom_cmap2)\n",
        "  if plot_training:\n",
        "    plt.plot(X[:, 0][y==0], X[:, 1][y==0], \"yo\", label = \"Iris setosa\")\n",
        "    plt.plot(X[:, 0][y==1], X[:, 1][y==1], \"bs\", label = \"Iris versicolor\")\n",
        "    plt.plot(X[:, 0][y==2], X[:, 1][y==2], \"g^\", label = \"Iris virginica\")\n",
        "    plt.axis(axes)\n",
        "  if iris:\n",
        "    plt.xlabel(\"Petal length\", fontsize = 14)\n",
        "    plt.xlabel(\"Petal width\", fontsize = 14)\n",
        "  else:\n",
        "    plt.xlabel(r\"$x_1$\", fontsize = 18)\n",
        "    plt.xlabel(r\"$x_2$\", fontsize = 18, rotation = 0)\n",
        "  if legend:\n",
        "    plt.legend(loc = \"lower right\", fontsize = 14)\n"
      ],
      "metadata": {
        "id": "KzvEkrYuYRPf"
      },
      "execution_count": null,
      "outputs": []
    },
    {
      "cell_type": "code",
      "source": [
        "\n",
        "base_clf = DecisionTreeClassifier()\n",
        "base_clf.fit(X_train, y_train)\n",
        "\n",
        "fig, axes = plt.subplots(ncols = 2, figsize = (8, 4), sharey=True)\n",
        "\n",
        "\n",
        "plt.sca(axes[0])\n",
        "plot_decision_boundary(base_clf, X_train, y_train, axes = [-1.5, 2, -1, 1.5],\n",
        "                       iris = False)\n",
        "plt.title(\"Decision Tree\", fontsize = 16)\n",
        "\n",
        "plt.sca(axes[1])\n",
        "plot_decision_boundary(bag_clf, X_train, y_train, axes = [-1.5, 2, -1, 1.5],\n",
        "                       iris = False)\n",
        "\n",
        "plt.title(\"Decision Tree with Bagging\", fontsize = 16)"
      ],
      "metadata": {
        "colab": {
          "base_uri": "https://localhost:8080/",
          "height": 322
        },
        "id": "0yfASj44ZrHq",
        "outputId": "231b49f4-fd17-462a-bfa4-2404d1a64b6e"
      },
      "execution_count": null,
      "outputs": [
        {
          "output_type": "execute_result",
          "data": {
            "text/plain": [
              "Text(0.5, 1.0, 'Decision Tree with Bagging')"
            ]
          },
          "metadata": {},
          "execution_count": 8
        },
        {
          "output_type": "display_data",
          "data": {
            "image/png": "[encoded data removed]",
            "text/plain": [
              "<Figure size 576x288 with 2 Axes>"
            ]
          },
          "metadata": {
            "needs_background": "light"
          }
        }
      ]
    },
    {
      "cell_type": "markdown",
      "source": [
        "Only about 63% of the training instances are sampled on average for each predictor. The remaining 37% of the training instances that are not sampled are called *out-of-bag* (oob) instances.\n",
        "\n",
        "Set oob_true = True when creating a BaggingClassifier to request an automatic oob evaluating after training."
      ],
      "metadata": {
        "id": "LFM80ZwXdUHw"
      }
    },
    {
      "cell_type": "code",
      "source": [
        "bag_clf = BaggingClassifier(\n",
        "    base_clf, n_estimators = 500,\n",
        "    bootstrap = True, n_jobs = -1, oob_score = True, random_state = 42\n",
        "\n",
        ")\n",
        "bag_clf.fit(X_train, y_train)\n",
        "print(\"oob accuracy is {:.2%}\".format(bag_clf.oob_score_))\n",
        "\n",
        "y_pred = bag_clf.predict(X_test)\n",
        "print(\"test accuracy is {:.2%}\".format(accuracy_score(y_test, y_pred)))\n"
      ],
      "metadata": {
        "colab": {
          "base_uri": "https://localhost:8080/"
        },
        "id": "kOaigszzadox",
        "outputId": "5dd78c8e-4ad3-4249-8bae-75ecc86415c9"
      },
      "execution_count": null,
      "outputs": [
        {
          "output_type": "stream",
          "name": "stdout",
          "text": [
            "oob accuracy is 89.60%\n",
            "test accuracy is 92.00%\n"
          ]
        }
      ]
    },
    {
      "cell_type": "code",
      "source": [
        "bag_clf.oob_decision_function_\n",
        "\n",
        "print(\"the oob evaluation \"\\\n",
        "      \"estimates that the first training instance has {:.2%} belonging to negative class\".format(\n",
        "  bag_clf.oob_decision_function_[0][0]\n",
        "    \n",
        "))"
      ],
      "metadata": {
        "colab": {
          "base_uri": "https://localhost:8080/"
        },
        "id": "1w18iuG-eYOp",
        "outputId": "4aa75600-9e8c-42d5-b00e-45ae8b2bc0b0"
      },
      "execution_count": null,
      "outputs": [
        {
          "output_type": "stream",
          "name": "stdout",
          "text": [
            "the oob evaluation estimates that the first training instance has 32.35% belonging to negative class\n"
          ]
        }
      ]
    },
    {
      "cell_type": "code",
      "source": [
        "bag_clf.oob_decision_function_[0][0]"
      ],
      "metadata": {
        "colab": {
          "base_uri": "https://localhost:8080/"
        },
        "id": "jIVJtu84fTSl",
        "outputId": "0db85529-cdde-432c-bde5-c26019dc3a79"
      },
      "execution_count": null,
      "outputs": [
        {
          "output_type": "execute_result",
          "data": {
            "text/plain": [
              "0.3235294117647059"
            ]
          },
          "metadata": {},
          "execution_count": 11
        }
      ]
    },
    {
      "cell_type": "markdown",
      "source": [
        "#Random Forest classifier\n",
        "Random Forest is an ensemble of Decision Trees, generally trained via the bagging method, typically with *max_samples* set to the size of the training set. \n",
        "\n",
        "Random Forest searches for the best feature among a random subset of features. It trades more bias for a lower variance. \n",
        "\n",
        "The following code uses all available CPU cores to train a Random Forest classifier with 500 trees, each limited to maximum 16 nodes.\n",
        "\n",
        "Another technique is called *Extremely Randomized Trees* ensemble. It uses random *thresholds* for each feature rather than searching for the best possible thresholds. It trades more bias for a lower variance. \n",
        "\n",
        "The only way to know which is better between Random Forest and Extra-Trees is to try both and compare them using cross-validation (tuning the hyperparameters using grid search). "
      ],
      "metadata": {
        "id": "n6gOKQghSK-6"
      }
    },
    {
      "cell_type": "code",
      "source": [
        "from sklearn.ensemble import RandomForestClassifier\n",
        "\n",
        "rnd_clf = RandomForestClassifier(n_estimators = 500, max_leaf_nodes = 16)\n",
        "rnd_clf.fit(X_train, y_train)\n",
        "\n",
        "y_pred_rf = rnd_clf.predict(X_test)"
      ],
      "metadata": {
        "id": "wweorkowf8Vx"
      },
      "execution_count": null,
      "outputs": []
    },
    {
      "cell_type": "code",
      "source": [
        "# the following runs the same as the code in the previous block\n",
        "bag_clf = BaggingClassifier(\n",
        "    DecisionTreeClassifier(max_features=\"auto\", max_leaf_nodes=16),\n",
        "    n_estimators=500, max_samples = 1.0, bootstrap=True, n_jobs = -1\n",
        ")"
      ],
      "metadata": {
        "id": "4NJ8IfJSSxhH"
      },
      "execution_count": null,
      "outputs": []
    },
    {
      "cell_type": "code",
      "source": [
        "from sklearn.datasets import load_iris\n",
        "\n",
        "iris = load_iris()\n",
        "rnd_clf = RandomForestClassifier(n_estimators=500, n_jobs = -1, random_state=42)\n",
        "rnd_clf.fit(iris['data'], iris['target'])\n",
        "for name, score in zip(iris['feature_names'], rnd_clf.feature_importances_):\n",
        "  print(name, score)"
      ],
      "metadata": {
        "colab": {
          "base_uri": "https://localhost:8080/"
        },
        "id": "IvZ0mBOJTeOF",
        "outputId": "cc9a8c0c-a312-4e52-ca57-3352ef975ad2"
      },
      "execution_count": null,
      "outputs": [
        {
          "output_type": "stream",
          "name": "stdout",
          "text": [
            "sepal length (cm) 0.11249225099876375\n",
            "sepal width (cm) 0.02311928828251033\n",
            "petal length (cm) 0.4410304643639577\n",
            "petal width (cm) 0.4233579963547682\n"
          ]
        }
      ]
    },
    {
      "cell_type": "code",
      "source": [
        "sorted_idx = rnd_clf.feature_importances_.argsort()\n",
        "plt.barh([iris.feature_names[i] for i in list(sorted_idx)],\n",
        "         rnd_clf.feature_importances_[sorted_idx])\n",
        "plt.xlabel(\"Random Forest Feature Importance\")"
      ],
      "metadata": {
        "colab": {
          "base_uri": "https://localhost:8080/",
          "height": 296
        },
        "id": "NFBkma_rW3QX",
        "outputId": "90a62142-05b4-485e-cbb7-82aafdbcb0aa"
      },
      "execution_count": null,
      "outputs": [
        {
          "output_type": "execute_result",
          "data": {
            "text/plain": [
              "Text(0.5, 0, 'Random Forest Feature Importance')"
            ]
          },
          "metadata": {},
          "execution_count": 27
        },
        {
          "output_type": "display_data",
          "data": {
            "image/png": "[encoded data removed]",
            "text/plain": [
              "<Figure size 432x288 with 1 Axes>"
            ]
          },
          "metadata": {
            "needs_background": "light"
          }
        }
      ]
    },
    {
      "cell_type": "code",
      "source": [
        "from sklearn.datasets import fetch_openml\n",
        "\n",
        "mnist = fetch_openml(\"mnist_784\", version = 1, as_frame = False)\n",
        "mnist.target = mnist.target.astype(np.uint8)\n"
      ],
      "metadata": {
        "id": "0qZl6D4uZiSK"
      },
      "execution_count": null,
      "outputs": []
    },
    {
      "cell_type": "code",
      "source": [
        "rnd_clf = RandomForestClassifier(n_estimators = 100, random_state = 42)\n",
        "rnd_clf.fit(mnist['data'], mnist['target'])"
      ],
      "metadata": {
        "colab": {
          "base_uri": "https://localhost:8080/"
        },
        "id": "FUDGA4s6ZvTV",
        "outputId": "5fadcda1-800b-4e6f-962b-6dede42cd446"
      },
      "execution_count": null,
      "outputs": [
        {
          "output_type": "execute_result",
          "data": {
            "text/plain": [
              "RandomForestClassifier(random_state=42)"
            ]
          },
          "metadata": {},
          "execution_count": 30
        }
      ]
    },
    {
      "cell_type": "code",
      "source": [
        "import matplotlib as mpl\n",
        "def plot_digit(data):\n",
        "  image = data.reshape(28, 28)\n",
        "  plt.imshow(image, cmap = mpl.cm.hot, interpolation=\"nearest\")\n",
        "  plt.axis(\"off\")\n",
        "\n",
        "plot_digit(rnd_clf.feature_importances_)\n",
        "cbar = plt.colorbar(ticks = [rnd_clf.feature_importances_.min(),\n",
        "                             rnd_clf.feature_importances_.max()]\n",
        "                    )\n",
        "\n",
        "cbar.ax.set_yticklabels(['Not important', 'Very important'])\n",
        "\n",
        "plt.show()"
      ],
      "metadata": {
        "colab": {
          "base_uri": "https://localhost:8080/",
          "height": 258
        },
        "id": "vXRPv9TyaBc6",
        "outputId": "bf0e4e1b-a1db-45ec-906c-f7cf95e2044c"
      },
      "execution_count": null,
      "outputs": [
        {
          "output_type": "display_data",
          "data": {
            "image/png": "[encoded data removed]",
            "text/plain": [
              "<Figure size 432x288 with 2 Axes>"
            ]
          },
          "metadata": {
            "needs_background": "light"
          }
        }
      ]
    },
    {
      "cell_type": "markdown",
      "source": [
        "#Boosting\n",
        "Boosting is to fit a decision tree to the residuals from the model. We fit a tree using the current residual and we then add this new decision tree into the fitted function in order to update the residual. Each of these trees can be rather small, with just a few terminal nodes, determined by the parameter *d*.\n",
        "\n",
        "1. AdaBoost "
      ],
      "metadata": {
        "id": "EIB6YuoagSYp"
      }
    },
    {
      "cell_type": "code",
      "source": [
        ""
      ],
      "metadata": {
        "id": "s9XwjDEHc03H"
      },
      "execution_count": null,
      "outputs": []
    }
  ]
}