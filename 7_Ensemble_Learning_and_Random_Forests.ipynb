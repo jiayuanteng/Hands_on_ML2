{
  "nbformat": 4,
  "nbformat_minor": 0,
  "metadata": {
    "colab": {
      "name": "7. Ensemble Learning and Random Forests.ipynb",
      "provenance": [],
      "authorship_tag": "ABX9TyPctx6YQPhSjRhGCeIpakhW",
      "include_colab_link": true
    },
    "kernelspec": {
      "name": "python3",
      "display_name": "Python 3"
    },
    "language_info": {
      "name": "python"
    }
  },
  "cells": [
    {
      "cell_type": "markdown",
      "metadata": {
        "id": "view-in-github",
        "colab_type": "text"
      },
      "source": [
        "<a href=\"https://colab.research.google.com/github/jiayuanteng/Hands_on_ML2/blob/main/7_Ensemble_Learning_and_Random_Forests.ipynb\" target=\"_parent\"><img src=\"https://colab.research.google.com/assets/colab-badge.svg\" alt=\"Open In Colab\"/></a>"
      ]
    },
    {
      "cell_type": "markdown",
      "source": [
        "# Ensemble learning\n",
        "A group of predictors is called an ensemble; and an Ensemble Learning algorithm is called an Ensemble method\n",
        "\n",
        "1. Ensemble method works best when the predictors are as independent from one another as possible,\n",
        "2. Another method is to use bagging/pasting to train the same classifer on random samples of the training data and ensemble the classifers to predict for a new instance by aggregating the predictions of all the classifiers. \n"
      ],
      "metadata": {
        "id": "xgak55UrP8dX"
      }
    },
    {
      "cell_type": "markdown",
      "source": [
        "## Voting classifiers\n",
        "1. The majority-vote classifier is called a *hard voting* classifier.\n",
        "2. If each classifier is able to estimate class probabilities (i.e., they all have a predict_proba() method), use sklearn to predict the class with the highest class probability, averaged over all the individual classifiers. This is called *soft voting* "
      ],
      "metadata": {
        "id": "JJLYrBOhQrgp"
      }
    },
    {
      "cell_type": "code",
      "source": [
        "from sklearn.ensemble import RandomForestClassifier\n",
        "from sklearn.ensemble import VotingClassifier\n",
        "from sklearn.linear_model import LogisticRegression\n",
        "from sklearn.svm import SVC\n",
        "\n",
        "from sklearn.model_selection import train_test_split\n",
        "from sklearn.datasets import make_moons\n",
        "\n",
        "X, y = make_moons(n_samples=500, noise=0.30, random_state=42)\n",
        "X_train, X_test, y_train, y_test = train_test_split(X, y, random_state=42)"
      ],
      "metadata": {
        "id": "SfIEtiwcP7a0"
      },
      "execution_count": 2,
      "outputs": []
    },
    {
      "cell_type": "code",
      "execution_count": 3,
      "metadata": {
        "colab": {
          "base_uri": "https://localhost:8080/"
        },
        "id": "xtv5bnF0NDa9",
        "outputId": "03ec86f6-56a8-44e5-fa9a-c82eab8cd4bd"
      },
      "outputs": [
        {
          "output_type": "execute_result",
          "data": {
            "text/plain": [
              "VotingClassifier(estimators=[('lr', LogisticRegression()),\n",
              "                             ('rf', RandomForestClassifier()), ('svc', SVC())])"
            ]
          },
          "metadata": {},
          "execution_count": 3
        }
      ],
      "source": [
        "# hard voting\n",
        "\n",
        "log_clf = LogisticRegression()\n",
        "rnd_clf = RandomForestClassifier()\n",
        "svm_clf = SVC()\n",
        "\n",
        "voting_clf = VotingClassifier(\n",
        "    estimators = [('lr', log_clf), ('rf', rnd_clf), ('svc', svm_clf)],\n",
        "    voting = 'hard'\n",
        ")\n",
        "voting_clf.fit(X_train, y_train)\n",
        "\n"
      ]
    },
    {
      "cell_type": "markdown",
      "source": [
        "Accuracy score is the fraction of samples predicted correctly: $(TP+TN)/(TP+TN_FP+FN)$"
      ],
      "metadata": {
        "id": "aDula7sxTEni"
      }
    },
    {
      "cell_type": "code",
      "source": [
        "from sklearn.metrics import accuracy_score\n",
        "\n",
        "print(\"Invidual classifers compared to hard voting classifier\")\n",
        "for clf in [log_clf, rnd_clf, svm_clf, voting_clf]:\n",
        "  clf.fit(X_train, y_train)\n",
        "  y_pred = clf.predict(X_test)\n",
        "  \n",
        "\n",
        "  print(clf.__class__.__name__, accuracy_score(y_test, y_pred))"
      ],
      "metadata": {
        "colab": {
          "base_uri": "https://localhost:8080/"
        },
        "id": "0-erOhrsRa1W",
        "outputId": "3bd70fd1-992c-4032-db48-d0cd6bc3d185"
      },
      "execution_count": 7,
      "outputs": [
        {
          "output_type": "stream",
          "name": "stdout",
          "text": [
            "Invidual classifers compared to hard voting classifier\n",
            "LogisticRegression 0.864\n",
            "RandomForestClassifier 0.888\n",
            "SVC 0.896\n",
            "VotingClassifier 0.904\n"
          ]
        }
      ]
    },
    {
      "cell_type": "code",
      "source": [
        "# soft voting\n",
        "# hard voting\n",
        "\n",
        "log_clf = LogisticRegression()\n",
        "rnd_clf = RandomForestClassifier()\n",
        "svm_clf = SVC(probability=True)\n",
        "\n",
        "voting_clf = VotingClassifier(\n",
        "    estimators = [('lr', log_clf), ('rf', rnd_clf), ('svc', svm_clf)],\n",
        "    voting = 'soft'\n",
        ")\n",
        "\n",
        "\n",
        "print(\"Invidual classifers compared to soft voting classifier\")\n",
        "for clf in [log_clf, rnd_clf, svm_clf, voting_clf]:\n",
        "  clf.fit(X_train, y_train)\n",
        "  y_pred = clf.predict(X_test)\n",
        "  \n",
        "\n",
        "  print(clf.__class__.__name__, accuracy_score(y_test, y_pred))\n"
      ],
      "metadata": {
        "colab": {
          "base_uri": "https://localhost:8080/"
        },
        "id": "RfidOkieSEcY",
        "outputId": "041f3af6-a729-4644-d3ad-541c53f04b03"
      },
      "execution_count": 8,
      "outputs": [
        {
          "output_type": "stream",
          "name": "stdout",
          "text": [
            "Invidual classifers compared to soft voting classifier\n",
            "LogisticRegression 0.864\n",
            "RandomForestClassifier 0.896\n",
            "SVC 0.896\n",
            "VotingClassifier 0.912\n"
          ]
        }
      ]
    },
    {
      "cell_type": "markdown",
      "source": [
        "## Bagging and pasting\n",
        "Another method is to use the same training algorithm for every predictor and train them on different random subsets of the training set. Once all predictors are trained, the ensemble can make a prediction for a new instance by simply aggregating the predictions of all predictors. \n",
        "\n",
        "1. ***Bagging***: when sampling is performed *with* replacement\n",
        "2. ***Pasting***: when sampling is performed *without* replacement\n",
        "\n",
        "Set bootstrap in BaggingClassifier to be false to use Pasting. \n",
        "\n",
        "n_estimator sets # of the classifiers to train. max_samples set # of instances uses to train each classifier. set n_jobs = -1 to use all of the CPU cores. \n",
        "\n",
        "The BaggingClassifier automatically performs soft voting instead of hard voting if the base classifier can estimate class probabilities. "
      ],
      "metadata": {
        "id": "MGAxA6S1VcLA"
      }
    },
    {
      "cell_type": "code",
      "source": [
        "from sklearn.ensemble import BaggingClassifier\n",
        "from sklearn.tree import DecisionTreeClassifier\n",
        "\n",
        "bag_clf = BaggingClassifier(\n",
        "    DecisionTreeClassifier(), n_estimators=500, \n",
        "    max_samples = 100, bootstrap=True, n_jobs = -1\n",
        ")\n",
        "\n",
        "bag_clf.fit(X_train, y_train)\n",
        "y_pred = bag_clf.predict(X_test)"
      ],
      "metadata": {
        "id": "rAZsoDMnU-Ci"
      },
      "execution_count": 11,
      "outputs": []
    },
    {
      "cell_type": "code",
      "source": [
        "y_pred"
      ],
      "metadata": {
        "colab": {
          "base_uri": "https://localhost:8080/"
        },
        "id": "l00060uoYCQI",
        "outputId": "833aa886-8841-4a20-81fe-91e4234bc4e9"
      },
      "execution_count": 12,
      "outputs": [
        {
          "output_type": "execute_result",
          "data": {
            "text/plain": [
              "array([0, 0, 0, 1, 1, 1, 0, 0, 0, 0, 1, 0, 1, 1, 1, 0, 0, 1, 1, 0, 0, 1,\n",
              "       1, 0, 0, 0, 1, 0, 1, 0, 1, 1, 0, 0, 1, 0, 0, 1, 1, 1, 0, 1, 0, 0,\n",
              "       0, 0, 1, 0, 1, 1, 1, 1, 0, 0, 1, 0, 1, 1, 0, 1, 0, 1, 1, 0, 1, 0,\n",
              "       0, 0, 0, 1, 0, 0, 1, 1, 0, 0, 1, 1, 0, 0, 1, 1, 1, 0, 1, 1, 1, 0,\n",
              "       1, 1, 1, 0, 0, 0, 0, 1, 0, 1, 0, 1, 0, 1, 1, 0, 0, 0, 0, 0, 1, 1,\n",
              "       0, 0, 0, 1, 0, 0, 0, 0, 0, 1, 1, 1, 0, 0, 0])"
            ]
          },
          "metadata": {},
          "execution_count": 12
        }
      ]
    },
    {
      "cell_type": "code",
      "source": [
        "from matplotlib.colors import ListedColormap\n",
        "import matplotlib.pyplot as plt\n",
        "import numpy as np\n",
        "\n",
        "def plot_decision_boundary(clf, X, y, axes = [0, 7.5, 0, 3], iris = True, legend = False, \n",
        "                           plot_training = True):\n",
        "  x1s = np.linspace(axes[0], axes[1], 100)\n",
        "  x2s = np.linspace(axes[2], axes[3], 100)\n",
        "  x1, x2 = np.meshgrid(x1s, x2s)\n",
        "  X_new = np.c_[x1.ravel(), x2.ravel()]\n",
        "  y_pred = clf.predict(X_new).reshape(x1.shape)\n",
        "  custom_cmap = ListedColormap(['#fafab0','#9898ff','#a0faa0'])\n",
        "  plt.contourf(x1, x2, y_pred, alpha = 0.3, cmap = custom_cmap)\n",
        "  if not iris:\n",
        "    custom_cmap2 = ListedColormap(['#7d7d58','#4c4c7f','#507d50'])\n",
        "    plt.contour(x1, x2, y_pred, alpha = 0.3, cmap = custom_cmap2)\n",
        "  if plot_training:\n",
        "    plt.plot(X[:, 0][y==0], X[:, 1][y==0], \"yo\", label = \"Iris setosa\")\n",
        "    plt.plot(X[:, 0][y==1], X[:, 1][y==1], \"bs\", label = \"Iris versicolor\")\n",
        "    plt.plot(X[:, 0][y==2], X[:, 1][y==2], \"g^\", label = \"Iris virginica\")\n",
        "    plt.axis(axes)\n",
        "  if iris:\n",
        "    plt.xlabel(\"Petal length\", fontsize = 14)\n",
        "    plt.xlabel(\"Petal width\", fontsize = 14)\n",
        "  else:\n",
        "    plt.xlabel(r\"$x_1$\", fontsize = 18)\n",
        "    plt.xlabel(r\"$x_2$\", fontsize = 18, rotation = 0)\n",
        "  if legend:\n",
        "    plt.legend(loc = \"lower right\", fontsize = 14)\n"
      ],
      "metadata": {
        "id": "KzvEkrYuYRPf"
      },
      "execution_count": 13,
      "outputs": []
    },
    {
      "cell_type": "code",
      "source": [
        "\n",
        "base_clf = DecisionTreeClassifier()\n",
        "base_clf.fit(X_train, y_train)\n",
        "\n",
        "fig, axes = plt.subplots(ncols = 2, figsize = (8, 4), sharey=True)\n",
        "\n",
        "\n",
        "plt.sca(axes[0])\n",
        "plot_decision_boundary(base_clf, X_train, y_train, axes = [-1.5, 2, -1, 1.5],\n",
        "                       iris = False)\n",
        "plt.title(\"Decision Tree\", fontsize = 16)\n",
        "\n",
        "plt.sca(axes[1])\n",
        "plot_decision_boundary(bag_clf, X_train, y_train, axes = [-1.5, 2, -1, 1.5],\n",
        "                       iris = False)\n",
        "\n",
        "plt.title(\"Decision Tree with Bagging\", fontsize = 16)"
      ],
      "metadata": {
        "colab": {
          "base_uri": "https://localhost:8080/",
          "height": 322
        },
        "id": "0yfASj44ZrHq",
        "outputId": "59c9b16e-0ee1-46f6-dfea-6717456ff376"
      },
      "execution_count": 18,
      "outputs": [
        {
          "output_type": "execute_result",
          "data": {
            "text/plain": [
              "Text(0.5, 1.0, 'Decision Tree with Bagging')"
            ]
          },
          "metadata": {},
          "execution_count": 18
        },
        {
          "output_type": "display_data",
          "data": {
            "image/png": "[encoded data removed]",
            "text/plain": [
              "<Figure size 576x288 with 2 Axes>"
            ]
          },
          "metadata": {
            "needs_background": "light"
          }
        }
      ]
    },
    {
      "cell_type": "markdown",
      "source": [
        "Only about 63% of the training instances are sampled on average for each predictor. The remaining 37% of the training instances that are not sampled are called *out-of-bag* (oob) instances.\n",
        "\n",
        "Set oob_true = True when creating a BaggingClassifier to request an automatic oob evaluating after training."
      ],
      "metadata": {
        "id": "LFM80ZwXdUHw"
      }
    },
    {
      "cell_type": "code",
      "source": [
        "bag_clf = BaggingClassifier(\n",
        "    base_clf, n_estimators = 500,\n",
        "    bootstrap = True, n_jobs = -1, oob_score = True, random_state = 42\n",
        "\n",
        ")\n",
        "bag_clf.fit(X_train, y_train)\n",
        "print(\"oob accuracy is {:.2%}\".format(bag_clf.oob_score_))\n",
        "\n",
        "y_pred = bag_clf.predict(X_test)\n",
        "print(\"test accuracy is {:.2%}\".format(accuracy_score(y_test, y_pred)))\n"
      ],
      "metadata": {
        "colab": {
          "base_uri": "https://localhost:8080/"
        },
        "id": "kOaigszzadox",
        "outputId": "ee7beb16-58ef-42e2-cf75-b7030cb14b52"
      },
      "execution_count": 24,
      "outputs": [
        {
          "output_type": "stream",
          "name": "stdout",
          "text": [
            "oob accuracy is 89.60%\n",
            "test accuracy is 92.00%\n"
          ]
        }
      ]
    },
    {
      "cell_type": "code",
      "source": [
        "bag_clf.oob_decision_function_"
      ],
      "metadata": {
        "colab": {
          "base_uri": "https://localhost:8080/"
        },
        "id": "1w18iuG-eYOp",
        "outputId": "d4cfec38-67f2-4d53-ba6d-c3155a50182b"
      },
      "execution_count": 25,
      "outputs": [
        {
          "output_type": "execute_result",
          "data": {
            "text/plain": [
              "array([[0.32352941, 0.67647059],\n",
              "       [0.3375    , 0.6625    ],\n",
              "       [1.        , 0.        ],\n",
              "       [0.        , 1.        ],\n",
              "       [0.        , 1.        ],\n",
              "       [0.06145251, 0.93854749],\n",
              "       [0.35465116, 0.64534884],\n",
              "       [0.01142857, 0.98857143],\n",
              "       [0.98930481, 0.01069519],\n",
              "       [0.97927461, 0.02072539],\n",
              "       [0.75586854, 0.24413146],\n",
              "       [0.0049505 , 0.9950495 ],\n",
              "       [0.75520833, 0.24479167],\n",
              "       [0.82122905, 0.17877095],\n",
              "       [0.98461538, 0.01538462],\n",
              "       [0.06315789, 0.93684211],\n",
              "       [0.00490196, 0.99509804],\n",
              "       [0.99004975, 0.00995025],\n",
              "       [0.92513369, 0.07486631],\n",
              "       [1.        , 0.        ],\n",
              "       [0.03409091, 0.96590909],\n",
              "       [0.35087719, 0.64912281],\n",
              "       [0.91111111, 0.08888889],\n",
              "       [1.        , 0.        ],\n",
              "       [0.96319018, 0.03680982],\n",
              "       [0.        , 1.        ],\n",
              "       [1.        , 0.        ],\n",
              "       [1.        , 0.        ],\n",
              "       [0.        , 1.        ],\n",
              "       [0.6635514 , 0.3364486 ],\n",
              "       [0.        , 1.        ],\n",
              "       [1.        , 0.        ],\n",
              "       [0.0049505 , 0.9950495 ],\n",
              "       [0.        , 1.        ],\n",
              "       [0.19680851, 0.80319149],\n",
              "       [1.        , 0.        ],\n",
              "       [0.00591716, 0.99408284],\n",
              "       [0.38509317, 0.61490683],\n",
              "       [0.        , 1.        ],\n",
              "       [1.        , 0.        ],\n",
              "       [0.22346369, 0.77653631],\n",
              "       [0.32777778, 0.67222222],\n",
              "       [1.        , 0.        ],\n",
              "       [1.        , 0.        ],\n",
              "       [0.        , 1.        ],\n",
              "       [1.        , 0.        ],\n",
              "       [1.        , 0.        ],\n",
              "       [0.02906977, 0.97093023],\n",
              "       [1.        , 0.        ],\n",
              "       [0.01183432, 0.98816568],\n",
              "       [0.97916667, 0.02083333],\n",
              "       [0.88829787, 0.11170213],\n",
              "       [0.94594595, 0.05405405],\n",
              "       [0.96132597, 0.03867403],\n",
              "       [0.        , 1.        ],\n",
              "       [0.05612245, 0.94387755],\n",
              "       [0.98026316, 0.01973684],\n",
              "       [0.        , 1.        ],\n",
              "       [0.        , 1.        ],\n",
              "       [0.01005025, 0.98994975],\n",
              "       [0.98857143, 0.01142857],\n",
              "       [0.80769231, 0.19230769],\n",
              "       [0.44751381, 0.55248619],\n",
              "       [1.        , 0.        ],\n",
              "       [0.        , 1.        ],\n",
              "       [0.71523179, 0.28476821],\n",
              "       [1.        , 0.        ],\n",
              "       [1.        , 0.        ],\n",
              "       [0.84745763, 0.15254237],\n",
              "       [1.        , 0.        ],\n",
              "       [0.61578947, 0.38421053],\n",
              "       [0.12777778, 0.87222222],\n",
              "       [0.63387978, 0.36612022],\n",
              "       [0.9132948 , 0.0867052 ],\n",
              "       [0.        , 1.        ],\n",
              "       [0.16129032, 0.83870968],\n",
              "       [0.90607735, 0.09392265],\n",
              "       [1.        , 0.        ],\n",
              "       [0.        , 1.        ],\n",
              "       [1.        , 0.        ],\n",
              "       [0.00540541, 0.99459459],\n",
              "       [0.06358382, 0.93641618],\n",
              "       [0.02312139, 0.97687861],\n",
              "       [0.34939759, 0.65060241],\n",
              "       [1.        , 0.        ],\n",
              "       [0.        , 1.        ],\n",
              "       [0.84090909, 0.15909091],\n",
              "       [0.        , 1.        ],\n",
              "       [0.        , 1.        ],\n",
              "       [0.        , 1.        ],\n",
              "       [0.22340426, 0.77659574],\n",
              "       [1.        , 0.        ],\n",
              "       [0.        , 1.        ],\n",
              "       [0.        , 1.        ],\n",
              "       [0.        , 1.        ],\n",
              "       [0.96335079, 0.03664921],\n",
              "       [0.80628272, 0.19371728],\n",
              "       [0.        , 1.        ],\n",
              "       [1.        , 0.        ],\n",
              "       [0.25274725, 0.74725275],\n",
              "       [0.58235294, 0.41764706],\n",
              "       [0.        , 1.        ],\n",
              "       [0.03723404, 0.96276596],\n",
              "       [0.50543478, 0.49456522],\n",
              "       [1.        , 0.        ],\n",
              "       [0.01704545, 0.98295455],\n",
              "       [0.99456522, 0.00543478],\n",
              "       [0.2259887 , 0.7740113 ],\n",
              "       [0.45810056, 0.54189944],\n",
              "       [1.        , 0.        ],\n",
              "       [0.01570681, 0.98429319],\n",
              "       [0.98901099, 0.01098901],\n",
              "       [0.25698324, 0.74301676],\n",
              "       [0.88304094, 0.11695906],\n",
              "       [1.        , 0.        ],\n",
              "       [1.        , 0.        ],\n",
              "       [0.        , 1.        ],\n",
              "       [0.        , 1.        ],\n",
              "       [0.78285714, 0.21714286],\n",
              "       [1.        , 0.        ],\n",
              "       [0.00578035, 0.99421965],\n",
              "       [1.        , 0.        ],\n",
              "       [1.        , 0.        ],\n",
              "       [1.        , 0.        ],\n",
              "       [0.98895028, 0.01104972],\n",
              "       [0.99447514, 0.00552486],\n",
              "       [0.        , 1.        ],\n",
              "       [0.96534653, 0.03465347],\n",
              "       [0.99497487, 0.00502513],\n",
              "       [0.01092896, 0.98907104],\n",
              "       [0.1686747 , 0.8313253 ],\n",
              "       [0.95408163, 0.04591837],\n",
              "       [0.31515152, 0.68484848],\n",
              "       [0.98924731, 0.01075269],\n",
              "       [0.        , 1.        ],\n",
              "       [0.        , 1.        ],\n",
              "       [0.71929825, 0.28070175],\n",
              "       [0.36206897, 0.63793103],\n",
              "       [0.4       , 0.6       ],\n",
              "       [0.85326087, 0.14673913],\n",
              "       [0.95918367, 0.04081633],\n",
              "       [0.06349206, 0.93650794],\n",
              "       [0.81313131, 0.18686869],\n",
              "       [0.        , 1.        ],\n",
              "       [0.        , 1.        ],\n",
              "       [0.03508772, 0.96491228],\n",
              "       [0.98342541, 0.01657459],\n",
              "       [1.        , 0.        ],\n",
              "       [1.        , 0.        ],\n",
              "       [0.0052356 , 0.9947644 ],\n",
              "       [0.        , 1.        ],\n",
              "       [0.01932367, 0.98067633],\n",
              "       [0.        , 1.        ],\n",
              "       [1.        , 0.        ],\n",
              "       [1.        , 0.        ],\n",
              "       [0.94827586, 0.05172414],\n",
              "       [1.        , 0.        ],\n",
              "       [1.        , 0.        ],\n",
              "       [1.        , 0.        ],\n",
              "       [0.        , 1.        ],\n",
              "       [0.38674033, 0.61325967],\n",
              "       [0.27717391, 0.72282609],\n",
              "       [0.01117318, 0.98882682],\n",
              "       [0.        , 1.        ],\n",
              "       [0.30208333, 0.69791667],\n",
              "       [1.        , 0.        ],\n",
              "       [0.99378882, 0.00621118],\n",
              "       [0.        , 1.        ],\n",
              "       [1.        , 0.        ],\n",
              "       [0.        , 1.        ],\n",
              "       [0.        , 1.        ],\n",
              "       [0.98295455, 0.01704545],\n",
              "       [0.        , 1.        ],\n",
              "       [0.        , 1.        ],\n",
              "       [1.        , 0.        ],\n",
              "       [0.00502513, 0.99497487],\n",
              "       [0.61271676, 0.38728324],\n",
              "       [0.91747573, 0.08252427],\n",
              "       [0.        , 1.        ],\n",
              "       [1.        , 0.        ],\n",
              "       [0.99516908, 0.00483092],\n",
              "       [1.        , 0.        ],\n",
              "       [0.        , 1.        ],\n",
              "       [0.        , 1.        ],\n",
              "       [1.        , 0.        ],\n",
              "       [0.06930693, 0.93069307],\n",
              "       [1.        , 0.        ],\n",
              "       [0.05405405, 0.94594595],\n",
              "       [0.        , 1.        ],\n",
              "       [1.        , 0.        ],\n",
              "       [0.        , 1.        ],\n",
              "       [0.04294479, 0.95705521],\n",
              "       [1.        , 0.        ],\n",
              "       [0.93229167, 0.06770833],\n",
              "       [0.73295455, 0.26704545],\n",
              "       [0.62424242, 0.37575758],\n",
              "       [0.        , 1.        ],\n",
              "       [0.12755102, 0.87244898],\n",
              "       [1.        , 0.        ],\n",
              "       [0.96341463, 0.03658537],\n",
              "       [0.96226415, 0.03773585],\n",
              "       [1.        , 0.        ],\n",
              "       [0.02272727, 0.97727273],\n",
              "       [0.        , 1.        ],\n",
              "       [0.40223464, 0.59776536],\n",
              "       [0.85082873, 0.14917127],\n",
              "       [0.        , 1.        ],\n",
              "       [0.        , 1.        ],\n",
              "       [0.99408284, 0.00591716],\n",
              "       [0.00520833, 0.99479167],\n",
              "       [0.00540541, 0.99459459],\n",
              "       [0.96111111, 0.03888889],\n",
              "       [0.        , 1.        ],\n",
              "       [0.30808081, 0.69191919],\n",
              "       [0.        , 1.        ],\n",
              "       [1.        , 0.        ],\n",
              "       [0.00595238, 0.99404762],\n",
              "       [0.        , 1.        ],\n",
              "       [0.96236559, 0.03763441],\n",
              "       [0.80246914, 0.19753086],\n",
              "       [0.995     , 0.005     ],\n",
              "       [0.00543478, 0.99456522],\n",
              "       [0.04411765, 0.95588235],\n",
              "       [1.        , 0.        ],\n",
              "       [0.02808989, 0.97191011],\n",
              "       [0.        , 1.        ],\n",
              "       [0.04864865, 0.95135135],\n",
              "       [1.        , 0.        ],\n",
              "       [0.82777778, 0.17222222],\n",
              "       [0.        , 1.        ],\n",
              "       [0.8988764 , 0.1011236 ],\n",
              "       [0.99450549, 0.00549451],\n",
              "       [0.18857143, 0.81142857],\n",
              "       [0.20994475, 0.79005525],\n",
              "       [1.        , 0.        ],\n",
              "       [0.        , 1.        ],\n",
              "       [0.00549451, 0.99450549],\n",
              "       [0.        , 1.        ],\n",
              "       [0.25789474, 0.74210526],\n",
              "       [0.95212766, 0.04787234],\n",
              "       [0.00507614, 0.99492386],\n",
              "       [1.        , 0.        ],\n",
              "       [1.        , 0.        ],\n",
              "       [0.        , 1.        ],\n",
              "       [0.42857143, 0.57142857],\n",
              "       [1.        , 0.        ],\n",
              "       [0.        , 1.        ],\n",
              "       [1.        , 0.        ],\n",
              "       [0.        , 1.        ],\n",
              "       [0.        , 1.        ],\n",
              "       [0.04188482, 0.95811518],\n",
              "       [0.10404624, 0.89595376],\n",
              "       [0.98469388, 0.01530612],\n",
              "       [0.02185792, 0.97814208],\n",
              "       [1.        , 0.        ],\n",
              "       [0.34042553, 0.65957447],\n",
              "       [0.12315271, 0.87684729],\n",
              "       [0.52717391, 0.47282609],\n",
              "       [0.65151515, 0.34848485],\n",
              "       [0.00558659, 0.99441341],\n",
              "       [1.        , 0.        ],\n",
              "       [0.        , 1.        ],\n",
              "       [0.        , 1.        ],\n",
              "       [0.63679245, 0.36320755],\n",
              "       [0.        , 1.        ],\n",
              "       [1.        , 0.        ],\n",
              "       [0.22680412, 0.77319588],\n",
              "       [0.82089552, 0.17910448],\n",
              "       [0.03012048, 0.96987952],\n",
              "       [1.        , 0.        ],\n",
              "       [0.86910995, 0.13089005],\n",
              "       [0.        , 1.        ],\n",
              "       [0.00518135, 0.99481865],\n",
              "       [0.09137056, 0.90862944],\n",
              "       [0.00598802, 0.99401198],\n",
              "       [0.        , 1.        ],\n",
              "       [1.        , 0.        ],\n",
              "       [0.94318182, 0.05681818],\n",
              "       [0.1627907 , 0.8372093 ],\n",
              "       [0.95897436, 0.04102564],\n",
              "       [0.01630435, 0.98369565],\n",
              "       [0.59562842, 0.40437158],\n",
              "       [0.06989247, 0.93010753],\n",
              "       [1.        , 0.        ],\n",
              "       [0.78723404, 0.21276596],\n",
              "       [0.        , 1.        ],\n",
              "       [1.        , 0.        ],\n",
              "       [0.93684211, 0.06315789],\n",
              "       [0.        , 1.        ],\n",
              "       [0.        , 1.        ],\n",
              "       [1.        , 0.        ],\n",
              "       [0.        , 1.        ],\n",
              "       [1.        , 0.        ],\n",
              "       [0.23036649, 0.76963351],\n",
              "       [0.99418605, 0.00581395],\n",
              "       [1.        , 0.        ],\n",
              "       [0.        , 1.        ],\n",
              "       [0.        , 1.        ],\n",
              "       [0.85955056, 0.14044944],\n",
              "       [0.        , 1.        ],\n",
              "       [1.        , 0.        ],\n",
              "       [0.79255319, 0.20744681],\n",
              "       [0.91847826, 0.08152174],\n",
              "       [1.        , 0.        ],\n",
              "       [0.68306011, 0.31693989],\n",
              "       [0.50802139, 0.49197861],\n",
              "       [0.        , 1.        ],\n",
              "       [0.87790698, 0.12209302],\n",
              "       [0.        , 1.        ],\n",
              "       [1.        , 0.        ],\n",
              "       [0.9010989 , 0.0989011 ],\n",
              "       [1.        , 0.        ],\n",
              "       [1.        , 0.        ],\n",
              "       [0.72139303, 0.27860697],\n",
              "       [0.09090909, 0.90909091],\n",
              "       [0.48170732, 0.51829268],\n",
              "       [0.25263158, 0.74736842],\n",
              "       [0.        , 1.        ],\n",
              "       [0.84782609, 0.15217391],\n",
              "       [0.81443299, 0.18556701],\n",
              "       [0.        , 1.        ],\n",
              "       [1.        , 0.        ],\n",
              "       [0.98930481, 0.01069519],\n",
              "       [1.        , 0.        ],\n",
              "       [0.        , 1.        ],\n",
              "       [0.03921569, 0.96078431],\n",
              "       [0.95959596, 0.04040404],\n",
              "       [0.95375723, 0.04624277],\n",
              "       [1.        , 0.        ],\n",
              "       [0.52542373, 0.47457627],\n",
              "       [1.        , 0.        ],\n",
              "       [0.0106383 , 0.9893617 ],\n",
              "       [0.99453552, 0.00546448],\n",
              "       [0.02659574, 0.97340426],\n",
              "       [1.        , 0.        ],\n",
              "       [1.        , 0.        ],\n",
              "       [1.        , 0.        ],\n",
              "       [0.        , 1.        ],\n",
              "       [0.98275862, 0.01724138],\n",
              "       [0.        , 1.        ],\n",
              "       [0.08421053, 0.91578947],\n",
              "       [0.        , 1.        ],\n",
              "       [0.        , 1.        ],\n",
              "       [1.        , 0.        ],\n",
              "       [1.        , 0.        ],\n",
              "       [0.        , 1.        ],\n",
              "       [1.        , 0.        ],\n",
              "       [0.00564972, 0.99435028],\n",
              "       [1.        , 0.        ],\n",
              "       [0.14124294, 0.85875706],\n",
              "       [0.        , 1.        ],\n",
              "       [0.        , 1.        ],\n",
              "       [0.        , 1.        ],\n",
              "       [0.37125749, 0.62874251],\n",
              "       [0.08695652, 0.91304348],\n",
              "       [0.23255814, 0.76744186],\n",
              "       [1.        , 0.        ],\n",
              "       [0.98181818, 0.01818182],\n",
              "       [0.19444444, 0.80555556],\n",
              "       [0.9902439 , 0.0097561 ],\n",
              "       [0.        , 1.        ],\n",
              "       [0.        , 1.        ],\n",
              "       [1.        , 0.        ],\n",
              "       [0.95930233, 0.04069767],\n",
              "       [0.34285714, 0.65714286],\n",
              "       [0.98843931, 0.01156069],\n",
              "       [1.        , 0.        ],\n",
              "       [0.        , 1.        ],\n",
              "       [1.        , 0.        ],\n",
              "       [0.00561798, 0.99438202],\n",
              "       [0.02139037, 0.97860963],\n",
              "       [1.        , 0.        ],\n",
              "       [1.        , 0.        ],\n",
              "       [0.02564103, 0.97435897],\n",
              "       [0.6344086 , 0.3655914 ]])"
            ]
          },
          "metadata": {},
          "execution_count": 25
        }
      ]
    },
    {
      "cell_type": "code",
      "source": [
        ""
      ],
      "metadata": {
        "id": "jIVJtu84fTSl"
      },
      "execution_count": null,
      "outputs": []
    }
  ]
}