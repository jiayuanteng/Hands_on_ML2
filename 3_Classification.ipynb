{
  "cells": [
    {
      "cell_type": "markdown",
      "metadata": {
        "id": "view-in-github",
        "colab_type": "text"
      },
      "source": [
        "<a href=\"https://colab.research.google.com/github/jiayuanteng/Hands_on_ML2/blob/main/3_Classification.ipynb\" target=\"_parent\"><img src=\"https://colab.research.google.com/assets/colab-badge.svg\" alt=\"Open In Colab\"/></a>"
      ]
    },
    {
      "cell_type": "markdown",
      "metadata": {
        "id": "MvWcOUkE0Mry"
      },
      "source": [
        "# MNIST dataset\n"
      ]
    },
    {
      "cell_type": "code",
      "execution_count": 1,
      "metadata": {
        "colab": {
          "base_uri": "https://localhost:8080/"
        },
        "id": "DGK1Y4QU0Xxz",
        "outputId": "9fb03bcf-578b-4e94-d6da-87f09dc4ca34"
      },
      "outputs": [
        {
          "output_type": "execute_result",
          "data": {
            "text/plain": [
              "dict_keys(['data', 'target', 'frame', 'categories', 'feature_names', 'target_names', 'DESCR', 'details', 'url'])"
            ]
          },
          "metadata": {},
          "execution_count": 1
        }
      ],
      "source": [
        "from sklearn.datasets import fetch_openml\n",
        "mnist = fetch_openml(\"mnist_784\", version = 1)\n",
        "mnist.keys()"
      ]
    },
    {
      "cell_type": "code",
      "execution_count": 2,
      "metadata": {
        "colab": {
          "base_uri": "https://localhost:8080/",
          "height": 225
        },
        "id": "7oWz6qaA9NzV",
        "outputId": "0d217d9e-7059-4ba7-dce9-2b3067a0fb21"
      },
      "outputs": [
        {
          "output_type": "execute_result",
          "data": {
            "application/vnd.google.colaboratory.intrinsic+json": {
              "type": "string"
            },
            "text/plain": [
              "\"**Author**: Yann LeCun, Corinna Cortes, Christopher J.C. Burges  \\n**Source**: [MNIST Website](http://yann.lecun.com/exdb/mnist/) - Date unknown  \\n**Please cite**:  \\n\\nThe MNIST database of handwritten digits with 784 features, raw data available at: http://yann.lecun.com/exdb/mnist/. It can be split in a training set of the first 60,000 examples, and a test set of 10,000 examples  \\n\\nIt is a subset of a larger set available from NIST. The digits have been size-normalized and centered in a fixed-size image. It is a good database for people who want to try learning techniques and pattern recognition methods on real-world data while spending minimal efforts on preprocessing and formatting. The original black and white (bilevel) images from NIST were size normalized to fit in a 20x20 pixel box while preserving their aspect ratio. The resulting images contain grey levels as a result of the anti-aliasing technique used by the normalization algorithm. the images were centered in a 28x28 image by computing the center of mass of the pixels, and translating the image so as to position this point at the center of the 28x28 field.  \\n\\nWith some classification methods (particularly template-based methods, such as SVM and K-nearest neighbors), the error rate improves when the digits are centered by bounding box rather than center of mass. If you do this kind of pre-processing, you should report it in your publications. The MNIST database was constructed from NIST's NIST originally designated SD-3 as their training set and SD-1 as their test set. However, SD-3 is much cleaner and easier to recognize than SD-1. The reason for this can be found on the fact that SD-3 was collected among Census Bureau employees, while SD-1 was collected among high-school students. Drawing sensible conclusions from learning experiments requires that the result be independent of the choice of training set and test among the complete set of samples. Therefore it was necessary to build a new database by mixing NIST's datasets.  \\n\\nThe MNIST training set is composed of 30,000 patterns from SD-3 and 30,000 patterns from SD-1. Our test set was composed of 5,000 patterns from SD-3 and 5,000 patterns from SD-1. The 60,000 pattern training set contained examples from approximately 250 writers. We made sure that the sets of writers of the training set and test set were disjoint. SD-1 contains 58,527 digit images written by 500 different writers. In contrast to SD-3, where blocks of data from each writer appeared in sequence, the data in SD-1 is scrambled. Writer identities for SD-1 is available and we used this information to unscramble the writers. We then split SD-1 in two: characters written by the first 250 writers went into our new training set. The remaining 250 writers were placed in our test set. Thus we had two sets with nearly 30,000 examples each. The new training set was completed with enough examples from SD-3, starting at pattern # 0, to make a full set of 60,000 training patterns. Similarly, the new test set was completed with SD-3 examples starting at pattern # 35,000 to make a full set with 60,000 test patterns. Only a subset of 10,000 test images (5,000 from SD-1 and 5,000 from SD-3) is available on this site. The full 60,000 sample training set is available.\\n\\nDownloaded from openml.org.\""
            ]
          },
          "metadata": {},
          "execution_count": 2
        }
      ],
      "source": [
        "mnist['DESCR']"
      ]
    },
    {
      "cell_type": "code",
      "execution_count": 3,
      "metadata": {
        "colab": {
          "base_uri": "https://localhost:8080/"
        },
        "id": "ECrYhVz58X8k",
        "outputId": "6cb7d01f-e2ad-412b-e185-9e9a5bc3493c"
      },
      "outputs": [
        {
          "output_type": "execute_result",
          "data": {
            "text/plain": [
              "(70000, 784)"
            ]
          },
          "metadata": {},
          "execution_count": 3
        }
      ],
      "source": [
        "mnist['data'].shape"
      ]
    },
    {
      "cell_type": "code",
      "execution_count": 4,
      "metadata": {
        "colab": {
          "base_uri": "https://localhost:8080/"
        },
        "id": "FhZXyaug_SaC",
        "outputId": "bd269192-c133-4015-d91b-ea7534a3fd10"
      },
      "outputs": [
        {
          "output_type": "stream",
          "name": "stdout",
          "text": [
            "(70000, 784)\n",
            "(70000,)\n"
          ]
        }
      ],
      "source": [
        "X, y = mnist[\"data\"], mnist['target']\n",
        "print(X.shape)\n",
        "print(y.shape)"
      ]
    },
    {
      "cell_type": "code",
      "execution_count": 5,
      "metadata": {
        "colab": {
          "base_uri": "https://localhost:8080/",
          "height": 248
        },
        "id": "Tlm5R1lx_rj0",
        "outputId": "f55b5a8f-483e-48ac-e142-703523b95234"
      },
      "outputs": [
        {
          "output_type": "display_data",
          "data": {
            "image/png": "[encoded data removed]",
            "text/plain": [
              "<Figure size 432x288 with 1 Axes>"
            ]
          },
          "metadata": {
            "needs_background": "light"
          }
        }
      ],
      "source": [
        "import numpy as np\n",
        "\n",
        "import matplotlib.pyplot as plt\n",
        "\n",
        "some_digit = np.array(X[0:1])\n",
        "some_digit_image = some_digit.reshape(28,28)\n",
        "\n",
        "plt.imshow(some_digit_image, cmap = \"binary\")\n",
        "plt.axis(\"off\")\n",
        "plt.show()"
      ]
    },
    {
      "cell_type": "code",
      "execution_count": 6,
      "metadata": {
        "colab": {
          "base_uri": "https://localhost:8080/"
        },
        "id": "oaZdNBgvALvx",
        "outputId": "a8d27d29-ee85-4bea-ff26-c98bbae1f383"
      },
      "outputs": [
        {
          "output_type": "stream",
          "name": "stdout",
          "text": [
            "0        5\n",
            "1        0\n",
            "2        4\n",
            "3        1\n",
            "4        9\n",
            "        ..\n",
            "69995    2\n",
            "69996    3\n",
            "69997    4\n",
            "69998    5\n",
            "69999    6\n",
            "Name: class, Length: 70000, dtype: category\n",
            "Categories (10, object): ['0', '1', '2', '3', ..., '6', '7', '8', '9']\n"
          ]
        }
      ],
      "source": [
        "print(y)"
      ]
    },
    {
      "cell_type": "code",
      "execution_count": 7,
      "metadata": {
        "id": "t-HymlqeARtB"
      },
      "outputs": [],
      "source": [
        "import numpy as np\n",
        "y = y.astype(np.uint8)\n",
        "\n",
        "X_train, X_test, y_train, y_test = X[:60000], X[60000:], y[:60000], y[60000]"
      ]
    },
    {
      "cell_type": "markdown",
      "metadata": {
        "id": "MTx7He27BkAc"
      },
      "source": [
        "# Training a binary classifer"
      ]
    },
    {
      "cell_type": "code",
      "execution_count": 8,
      "metadata": {
        "id": "H2ReB7DoBi8Y"
      },
      "outputs": [],
      "source": [
        "# take one class: y = 5\n",
        "y_train_5 = (y_train == 5)\n",
        "y_test_5 = (y_test == 5)"
      ]
    },
    {
      "cell_type": "code",
      "execution_count": 9,
      "metadata": {
        "colab": {
          "base_uri": "https://localhost:8080/"
        },
        "id": "dAH323HKC5f7",
        "outputId": "1eac3761-efa6-4bd0-8c95-58f40d9e0346"
      },
      "outputs": [
        {
          "output_type": "stream",
          "name": "stderr",
          "text": [
            "/usr/local/lib/python3.7/dist-packages/sklearn/base.py:446: UserWarning: X does not have valid feature names, but SGDClassifier was fitted with feature names\n",
            "  \"X does not have valid feature names, but\"\n"
          ]
        },
        {
          "output_type": "execute_result",
          "data": {
            "text/plain": [
              "array([ True])"
            ]
          },
          "metadata": {},
          "execution_count": 9
        }
      ],
      "source": [
        "# use SGD classifier - linear SVM with SGD\n",
        "# use default loss function of soft margin linear svm. \n",
        "# use L2 regularization\n",
        "# decision function uses threshold (threshold = 0) to determine class\n",
        "# score>0 is True, or False\n",
        "from sklearn.linear_model import SGDClassifier\n",
        "sgd_clf = SGDClassifier(random_state = 42)\n",
        "sgd_clf.fit(X_train, y_train_5)\n",
        "sgd_clf.predict(some_digit)\n"
      ]
    },
    {
      "cell_type": "code",
      "execution_count": 10,
      "metadata": {
        "colab": {
          "base_uri": "https://localhost:8080/"
        },
        "id": "nuKDUGfNDnDh",
        "outputId": "bd859443-d6b6-4763-cc29-1b8928eea562"
      },
      "outputs": [
        {
          "output_type": "stream",
          "name": "stdout",
          "text": [
            "[ True]\n"
          ]
        },
        {
          "output_type": "stream",
          "name": "stderr",
          "text": [
            "/usr/local/lib/python3.7/dist-packages/sklearn/base.py:446: UserWarning: X does not have valid feature names, but SGDClassifier was fitted with feature names\n",
            "  \"X does not have valid feature names, but\"\n"
          ]
        }
      ],
      "source": [
        "print(sgd_clf.predict(some_digit))"
      ]
    },
    {
      "cell_type": "code",
      "execution_count": 11,
      "metadata": {
        "colab": {
          "base_uri": "https://localhost:8080/"
        },
        "id": "q42JFVLdMD6g",
        "outputId": "1433f1e6-bc3d-43c4-cb19-cc8b7672ed37"
      },
      "outputs": [
        {
          "output_type": "execute_result",
          "data": {
            "text/plain": [
              "{'alpha': 0.0001,\n",
              " 'average': False,\n",
              " 'class_weight': None,\n",
              " 'early_stopping': False,\n",
              " 'epsilon': 0.1,\n",
              " 'eta0': 0.0,\n",
              " 'fit_intercept': True,\n",
              " 'l1_ratio': 0.15,\n",
              " 'learning_rate': 'optimal',\n",
              " 'loss': 'hinge',\n",
              " 'max_iter': 1000,\n",
              " 'n_iter_no_change': 5,\n",
              " 'n_jobs': None,\n",
              " 'penalty': 'l2',\n",
              " 'power_t': 0.5,\n",
              " 'random_state': 42,\n",
              " 'shuffle': True,\n",
              " 'tol': 0.001,\n",
              " 'validation_fraction': 0.1,\n",
              " 'verbose': 0,\n",
              " 'warm_start': False}"
            ]
          },
          "metadata": {},
          "execution_count": 11
        }
      ],
      "source": [
        "sgd_clf.get_params()"
      ]
    },
    {
      "cell_type": "code",
      "execution_count": 12,
      "metadata": {
        "colab": {
          "base_uri": "https://localhost:8080/"
        },
        "id": "ZmDg2vt7Mkw2",
        "outputId": "00c819fd-562f-4c0a-df27-056100450443"
      },
      "outputs": [
        {
          "output_type": "execute_result",
          "data": {
            "text/plain": [
              "(1, 784)"
            ]
          },
          "metadata": {},
          "execution_count": 12
        }
      ],
      "source": [
        "sgd_clf.coef_.shape"
      ]
    },
    {
      "cell_type": "markdown",
      "metadata": {
        "id": "5XM67LDDIoJr"
      },
      "source": [
        "# Measuring accuracy using cross-validation\n",
        "accuracy is not a preferred metrics. in the example here, accuracy is above 90% because only 10% of data is 5. "
      ]
    },
    {
      "cell_type": "code",
      "execution_count": 13,
      "metadata": {
        "id": "bJaJaOh_DvvK"
      },
      "outputs": [],
      "source": [
        "from sklearn.model_selection import StratifiedKFold\n",
        "from sklearn.base import clone\n",
        "\n",
        "skfolds = StratifiedKFold(n_splits = 3, shuffle = True, random_state = 42)"
      ]
    },
    {
      "cell_type": "code",
      "execution_count": 14,
      "metadata": {
        "colab": {
          "base_uri": "https://localhost:8080/"
        },
        "id": "SwIpwU_cDySy",
        "outputId": "f08780ff-4ec3-4b3c-efd3-fca672e3e718"
      },
      "outputs": [
        {
          "output_type": "stream",
          "name": "stdout",
          "text": [
            "0.9669\n",
            "0.91625\n",
            "0.96785\n"
          ]
        }
      ],
      "source": [
        "for train_index, test_index in skfolds.split(X_train, y_train_5):\n",
        "  clone_clf = clone(sgd_clf)\n",
        "  X_train_folds = X_train.loc[train_index]\n",
        "  y_train_folds = y_train_5.loc[train_index]\n",
        "\n",
        "  X_test_folds = X_train.loc[test_index]\n",
        "  y_test_folds = y_train_5.loc[test_index]\n",
        "  \n",
        "  clone_clf.fit(X_train_folds, y_train_folds)\n",
        "  y_pred = clone_clf.predict(X_test_folds)\n",
        "  n_correct = sum(y_pred == y_test_folds)\n",
        "  print(n_correct/len(y_pred))\n"
      ]
    },
    {
      "cell_type": "code",
      "execution_count": 15,
      "metadata": {
        "colab": {
          "base_uri": "https://localhost:8080/"
        },
        "id": "YJ0Is73GJRft",
        "outputId": "12218ec5-d042-4965-a2fb-39bad92c7958"
      },
      "outputs": [
        {
          "output_type": "execute_result",
          "data": {
            "text/plain": [
              "array([0.95035, 0.96035, 0.9604 ])"
            ]
          },
          "metadata": {},
          "execution_count": 15
        }
      ],
      "source": [
        "# use cross validation score\n",
        "from sklearn.model_selection import cross_val_score\n",
        "\n",
        "cross_val_score(sgd_clf, X_train, y_train_5, cv = 3, scoring = \"accuracy\")"
      ]
    },
    {
      "cell_type": "code",
      "execution_count": 16,
      "metadata": {
        "colab": {
          "base_uri": "https://localhost:8080/"
        },
        "id": "QOMcbFvpOkwh",
        "outputId": "b44a5264-4da8-48a1-a5f3-35f79e9a37b2"
      },
      "outputs": [
        {
          "output_type": "stream",
          "name": "stdout",
          "text": [
            "non-5 ratio is 90.96%\n"
          ]
        }
      ],
      "source": [
        "# accuracy is high because it is an easy task \n",
        "print (\"non-5 ratio is {:.2%}\".format(1-y_train_5.sum()/len(y_train_5)))\n",
        "\n",
        "from sklearn.base import BaseEstimator\n",
        "class Never5Classifier(BaseEstimator):\n",
        "  def fit(self, X, y = None):\n",
        "    return self\n",
        "  def predict(self, X):\n",
        "    return np.zeros((len(X), 1), dtype = bool)"
      ]
    },
    {
      "cell_type": "code",
      "execution_count": 17,
      "metadata": {
        "colab": {
          "base_uri": "https://localhost:8080/"
        },
        "id": "DBuFTReUO3mC",
        "outputId": "215cb7ba-9e9f-4d1d-e8f1-456725005a42"
      },
      "outputs": [
        {
          "output_type": "execute_result",
          "data": {
            "text/plain": [
              "array([0.91125, 0.90855, 0.90915])"
            ]
          },
          "metadata": {},
          "execution_count": 17
        }
      ],
      "source": [
        "never_5_clf = Never5Classifier()\n",
        "cross_val_score(never_5_clf, X_train, y_train_5, cv = 3, scoring=\"accuracy\")"
      ]
    },
    {
      "cell_type": "markdown",
      "metadata": {
        "id": "LlLyWLFvW-1T"
      },
      "source": [
        "# Confusion matrix"
      ]
    },
    {
      "cell_type": "code",
      "execution_count": 18,
      "metadata": {
        "id": "W3Jai5oRWnvE"
      },
      "outputs": [],
      "source": [
        "from sklearn.model_selection import cross_val_predict\n",
        "y_train_pred = cross_val_predict(sgd_clf, X_train, y_train_5, cv = 3)"
      ]
    },
    {
      "cell_type": "code",
      "execution_count": 19,
      "metadata": {
        "colab": {
          "base_uri": "https://localhost:8080/"
        },
        "id": "iC_EifOeXq8F",
        "outputId": "ad76ba71-bdd4-4f7e-8d62-e47ed88e4925"
      },
      "outputs": [
        {
          "output_type": "execute_result",
          "data": {
            "text/plain": [
              "array([[53892,   687],\n",
              "       [ 1891,  3530]])"
            ]
          },
          "metadata": {},
          "execution_count": 19
        }
      ],
      "source": [
        "# each row of confusion matrix is actual class\n",
        "# each column is prediction\n",
        "# first row is non-5\n",
        "\n",
        "from sklearn.metrics import confusion_matrix\n",
        "confusion_matrix(y_train_5, y_train_pred)"
      ]
    },
    {
      "cell_type": "markdown",
      "metadata": {
        "id": "YUV_-VotY7Bm"
      },
      "source": [
        "## Precision, Recall, and F1 Score\n",
        "Precision = TP/(TP+FP)\\\n",
        "Recall = TP/(TP+FN). Recall is also called sensitivity\\\n",
        "F1 = 2/(1/Precision + 1/Recall) gives higher weight to a lower value measure. Classifier gets a high F1 scores if both precision and recall are high\\\n",
        "Choice of measures depend on the question in hand. In some cases, precision is preferred (e.g., cancer screening) or recall is preferred (e.g., shoplifter detector)"
      ]
    },
    {
      "cell_type": "code",
      "execution_count": 20,
      "metadata": {
        "colab": {
          "base_uri": "https://localhost:8080/"
        },
        "id": "7oxYDZTmX3bA",
        "outputId": "ec9ee519-3738-4a00-9873-0d7001eb47a4"
      },
      "outputs": [
        {
          "output_type": "stream",
          "name": "stdout",
          "text": [
            "classifier is 83.71% of the time\n"
          ]
        }
      ],
      "source": [
        "from sklearn.metrics import precision_score, recall_score\n",
        "\n",
        "print(\"classifier is {:.2%} of the time\".format(\n",
        "    precision_score(y_train_5, y_train_pred)))\n"
      ]
    },
    {
      "cell_type": "code",
      "execution_count": 21,
      "metadata": {
        "colab": {
          "base_uri": "https://localhost:8080/"
        },
        "id": "-MsJdfl7Z4L1",
        "outputId": "0d718ef6-23fb-42ea-fe2b-7f761e4151a5"
      },
      "outputs": [
        {
          "output_type": "stream",
          "name": "stdout",
          "text": [
            "classifier detects 65.12% of 5s\n"
          ]
        }
      ],
      "source": [
        "print(\"classifier detects {:.2%} of 5s\".format(recall_score(y_train_5, y_train_pred)))"
      ]
    },
    {
      "cell_type": "code",
      "execution_count": 22,
      "metadata": {
        "colab": {
          "base_uri": "https://localhost:8080/"
        },
        "id": "D4bjLcgxZ83O",
        "outputId": "752826e7-10c9-4b7a-b4e1-f860ca5e9858"
      },
      "outputs": [
        {
          "output_type": "execute_result",
          "data": {
            "text/plain": [
              "0.7325171197343846"
            ]
          },
          "metadata": {},
          "execution_count": 22
        }
      ],
      "source": [
        "from sklearn.metrics import f1_score\n",
        "f1_score(y_train_5, y_train_pred)"
      ]
    },
    {
      "cell_type": "code",
      "execution_count": 23,
      "metadata": {
        "colab": {
          "base_uri": "https://localhost:8080/"
        },
        "id": "ajoX8lKubJAH",
        "outputId": "32d83e61-7be2-460e-956a-98194ed5b40a"
      },
      "outputs": [
        {
          "output_type": "stream",
          "name": "stderr",
          "text": [
            "/usr/local/lib/python3.7/dist-packages/sklearn/base.py:446: UserWarning: X does not have valid feature names, but SGDClassifier was fitted with feature names\n",
            "  \"X does not have valid feature names, but\"\n"
          ]
        },
        {
          "output_type": "execute_result",
          "data": {
            "text/plain": [
              "array([2164.22030239])"
            ]
          },
          "metadata": {},
          "execution_count": 23
        }
      ],
      "source": [
        "sgd_clf.decision_function(some_digit)"
      ]
    },
    {
      "cell_type": "markdown",
      "metadata": {
        "id": "zxMPuLxRemyo"
      },
      "source": [
        "## Relationship between precision and recall"
      ]
    },
    {
      "cell_type": "code",
      "execution_count": 24,
      "metadata": {
        "id": "0_-FW3APd_qM"
      },
      "outputs": [],
      "source": [
        "from sklearn.metrics import precision_recall_curve\n",
        "\n",
        "y_scores = cross_val_predict(sgd_clf, X_train, y_train_5, \n",
        "                             cv = 3, method = \"decision_function\")\n",
        "\n",
        "precision, recall, thresholds = precision_recall_curve(y_train_5, y_scores)\n"
      ]
    },
    {
      "cell_type": "code",
      "execution_count": 25,
      "metadata": {
        "colab": {
          "base_uri": "https://localhost:8080/"
        },
        "id": "GaAcEiwJsjRm",
        "outputId": "4a36608a-4aa2-4484-f1b3-21f104e97346"
      },
      "outputs": [
        {
          "output_type": "execute_result",
          "data": {
            "text/plain": [
              "(59966,)"
            ]
          },
          "metadata": {},
          "execution_count": 25
        }
      ],
      "source": [
        "thresholds.shape"
      ]
    },
    {
      "cell_type": "code",
      "execution_count": 26,
      "metadata": {
        "id": "eqHICiTOeuEK"
      },
      "outputs": [],
      "source": [
        "def plot_precision_recall_vs_threshold(precisions, recalls, thresholds):\n",
        "  plt.plot(thresholds, precisions[:-1], \"b--\", label = \"Precision\")\n",
        "  plt.plot(thresholds, recalls[:-1], \"g-\", label = \"Recall\")\n",
        "  plt.legend()"
      ]
    },
    {
      "cell_type": "code",
      "execution_count": 27,
      "metadata": {
        "colab": {
          "base_uri": "https://localhost:8080/",
          "height": 265
        },
        "id": "NPQNu0Y1fv9p",
        "outputId": "c9c9ca38-8d4c-42e0-9526-d0f65dc66077"
      },
      "outputs": [
        {
          "output_type": "display_data",
          "data": {
            "image/png": "[encoded data removed]",
            "text/plain": [
              "<Figure size 432x288 with 1 Axes>"
            ]
          },
          "metadata": {
            "needs_background": "light"
          }
        }
      ],
      "source": [
        "plot_precision_recall_vs_threshold(precision, recall, thresholds)"
      ]
    },
    {
      "cell_type": "code",
      "execution_count": 28,
      "metadata": {
        "colab": {
          "base_uri": "https://localhost:8080/",
          "height": 296
        },
        "id": "lGmLNfG4f1bR",
        "outputId": "f2924e61-a489-426b-fbdd-1ec78bd648f8"
      },
      "outputs": [
        {
          "output_type": "execute_result",
          "data": {
            "text/plain": [
              "Text(0, 0.5, 'Precision')"
            ]
          },
          "metadata": {},
          "execution_count": 28
        },
        {
          "output_type": "display_data",
          "data": {
            "image/png": "[encoded data removed]",
            "text/plain": [
              "<Figure size 432x288 with 1 Axes>"
            ]
          },
          "metadata": {
            "needs_background": "light"
          }
        }
      ],
      "source": [
        "import pandas as pd\n",
        "import numpy as np\n",
        "precision_recall = np.concatenate((precision.reshape(-1,1), recall.reshape(-1,1)), axis=1).shape\n",
        "\n",
        "plt.plot( recall[:-1], precision[:-1])\n",
        "plt.xlabel(\"Recall\")\n",
        "plt.ylabel(\"Precision\")\n"
      ]
    },
    {
      "cell_type": "code",
      "execution_count": 29,
      "metadata": {
        "colab": {
          "base_uri": "https://localhost:8080/"
        },
        "id": "m4O2e8KngsQY",
        "outputId": "4d820518-4b5e-43ff-8892-15966ced5efd"
      },
      "outputs": [
        {
          "output_type": "stream",
          "name": "stdout",
          "text": [
            "3370.019499143958\n"
          ]
        }
      ],
      "source": [
        "# suppose I want to target min 90% of precision\n",
        "threshold_90_precision = thresholds[np.argmax(precision >=0.9)]\n",
        "print(threshold_90_precision)"
      ]
    },
    {
      "cell_type": "code",
      "execution_count": 30,
      "metadata": {
        "colab": {
          "base_uri": "https://localhost:8080/"
        },
        "id": "mYJuherNtRm_",
        "outputId": "6693a4b8-e542-403d-f828-aec39edbfca6"
      },
      "outputs": [
        {
          "output_type": "execute_result",
          "data": {
            "text/plain": [
              "0.7777777777777778"
            ]
          },
          "metadata": {},
          "execution_count": 30
        }
      ],
      "source": [
        "precision[np.argmax(precision >=0.9):].min()"
      ]
    },
    {
      "cell_type": "code",
      "execution_count": 31,
      "metadata": {
        "colab": {
          "base_uri": "https://localhost:8080/"
        },
        "id": "AQoU7_NKhWon",
        "outputId": "9d82cfbc-0d9f-44b5-bdc1-7cd27959c2a8"
      },
      "outputs": [
        {
          "output_type": "stream",
          "name": "stdout",
          "text": [
            "0.9000345901072293\n",
            "0.4799852425751706\n"
          ]
        }
      ],
      "source": [
        "y_train_pred_90 = (y_scores>=threshold_90_precision)\n",
        "print(precision_score(y_train_5, y_train_pred_90))\n",
        "print(recall_score(y_train_5, y_train_pred_90))\n"
      ]
    },
    {
      "cell_type": "markdown",
      "metadata": {
        "id": "-AqBEYe2jUo4"
      },
      "source": [
        "## ROC curve\n",
        "Plot recall on false positive rate. FPR is % of negative cases classified incorrectly. FPR = 1-TNR. TNR is % of negative cases classified correctly. TNR is also called specificity.  \\\n",
        "The more true positive classifier produces, the more false positive it produces"
      ]
    },
    {
      "cell_type": "code",
      "execution_count": 32,
      "metadata": {
        "id": "js-L28NmjMJL"
      },
      "outputs": [],
      "source": [
        "from sklearn.metrics import roc_curve\n",
        "\n",
        "fpr, tpr, thresholds = roc_curve(y_train_5, y_scores)\n"
      ]
    },
    {
      "cell_type": "code",
      "execution_count": 33,
      "metadata": {
        "id": "ohGFr0qjuvcG"
      },
      "outputs": [],
      "source": [
        "def plot_roc_curve(fpr, tpr, label = \"ROC\"):\n",
        "  plt.plot(fpr, tpr, linewidth = 2, label = label)\n",
        "  plt.plot([0,1], [0,1], \"k--\")\n",
        "  plt.legend()\n",
        "  plt.xlabel(\"False Positive Rate\")\n",
        "  plt.ylabel(\"Recall/Sensitivity\")"
      ]
    },
    {
      "cell_type": "code",
      "execution_count": 34,
      "metadata": {
        "colab": {
          "base_uri": "https://localhost:8080/",
          "height": 279
        },
        "id": "YvJFd01MuyHe",
        "outputId": "d4bceab7-468a-4167-9e5d-b2eb558d4009"
      },
      "outputs": [
        {
          "output_type": "display_data",
          "data": {
            "image/png": "[encoded data removed]",
            "text/plain": [
              "<Figure size 432x288 with 1 Axes>"
            ]
          },
          "metadata": {
            "needs_background": "light"
          }
        }
      ],
      "source": [
        "plot_roc_curve(fpr, tpr)"
      ]
    },
    {
      "cell_type": "code",
      "execution_count": 35,
      "metadata": {
        "colab": {
          "base_uri": "https://localhost:8080/"
        },
        "id": "jVHDN-x0vOCr",
        "outputId": "b73cec9e-56d3-4530-fdc1-af4d39faf7d8"
      },
      "outputs": [
        {
          "output_type": "execute_result",
          "data": {
            "text/plain": [
              "0.9604938554008616"
            ]
          },
          "metadata": {},
          "execution_count": 35
        }
      ],
      "source": [
        "from sklearn.metrics import roc_auc_score\n",
        "roc_auc_score(y_train_5, y_scores)"
      ]
    },
    {
      "cell_type": "code",
      "execution_count": 36,
      "metadata": {
        "id": "KkqDpeomwk6_"
      },
      "outputs": [],
      "source": [
        "from sklearn.ensemble import RandomForestClassifier\n",
        "\n",
        "forest_clf = RandomForestClassifier(random_state=42)\n",
        "y_probas_forest = cross_val_predict(forest_clf, X_train, y_train_5, cv = 3, \n",
        "                                    method = \"predict_proba\")"
      ]
    },
    {
      "cell_type": "code",
      "execution_count": 37,
      "metadata": {
        "id": "k8oW8U9mOTlW"
      },
      "outputs": [],
      "source": [
        "# 0 column is predicted probability of being not a 5\n",
        "\n",
        "y_scores_forest = y_probas_forest[:, 1]\n",
        "fpr_forest, tpr_forest, thresholds_forest = roc_curve(y_train_5, y_scores_forest)\n"
      ]
    },
    {
      "cell_type": "code",
      "execution_count": 38,
      "metadata": {
        "colab": {
          "base_uri": "https://localhost:8080/",
          "height": 265
        },
        "id": "bJs7OtdTOwk-",
        "outputId": "00c2249a-9283-4a92-9471-91ac02be28f3"
      },
      "outputs": [
        {
          "output_type": "display_data",
          "data": {
            "image/png": "[encoded data removed]",
            "text/plain": [
              "<Figure size 432x288 with 1 Axes>"
            ]
          },
          "metadata": {
            "needs_background": "light"
          }
        }
      ],
      "source": [
        "# compare ROC curve with the previous method (soft margin SVM)\n",
        "plt.plot(fpr, tpr, \"b:\", label = \"SGD\")\n",
        "plt.plot(fpr_forest, tpr_forest, \"g--\", label= \"Random Forest\")\n",
        "plt.plot([0,1], [0,1], \"k--\")\n",
        "plt.legend(loc = \"lower right\")\n",
        "plt.show()\n"
      ]
    },
    {
      "cell_type": "code",
      "execution_count": 39,
      "metadata": {
        "colab": {
          "base_uri": "https://localhost:8080/"
        },
        "id": "iBBLLcg3TDDA",
        "outputId": "6c19a051-c030-4c4b-f940-f3e8ef818849"
      },
      "outputs": [
        {
          "output_type": "stream",
          "name": "stdout",
          "text": [
            "Random forest classifier has AUC of 0.998\n"
          ]
        }
      ],
      "source": [
        "print(\"Random forest classifier has AUC of {:.3f}\"\\\n",
        "      .format(roc_auc_score(y_train_5, y_scores_forest))\n",
        ")"
      ]
    },
    {
      "cell_type": "code",
      "execution_count": 40,
      "metadata": {
        "colab": {
          "base_uri": "https://localhost:8080/"
        },
        "id": "PFGxoMLXTgQl",
        "outputId": "50debdc1-7653-453c-af4e-d8fae7769809"
      },
      "outputs": [
        {
          "output_type": "stream",
          "name": "stdout",
          "text": [
            "Soft margin SVM classifier has AUC of 0.960\n"
          ]
        }
      ],
      "source": [
        "print(\"Soft margin SVM classifier has AUC of {:.3f}\"\\\n",
        "      .format(roc_auc_score(y_train_5, y_scores))\n",
        ")"
      ]
    },
    {
      "cell_type": "markdown",
      "metadata": {
        "id": "pzAxNqDGU3Hx"
      },
      "source": [
        "# Training a multiclass classifier\n",
        "One-versus-rest: train 10 classifiers: 1 vs not 1, 2 vs not 2, etc. \\\n",
        "One-versus-one: train N*(N-1)/2 classifiers ($10*9/2$): train 1 vs 2, 1 vs 3, 1 vs 4, etc"
      ]
    },
    {
      "cell_type": "code",
      "execution_count": 41,
      "metadata": {
        "colab": {
          "base_uri": "https://localhost:8080/"
        },
        "id": "Q-OEKkW0Tp6e",
        "outputId": "d8814c9f-17cc-407e-fae6-5d256343055d"
      },
      "outputs": [
        {
          "output_type": "stream",
          "name": "stdout",
          "text": [
            "[5]\n"
          ]
        },
        {
          "output_type": "stream",
          "name": "stderr",
          "text": [
            "/usr/local/lib/python3.7/dist-packages/sklearn/base.py:446: UserWarning: X does not have valid feature names, but SVC was fitted with feature names\n",
            "  \"X does not have valid feature names, but\"\n"
          ]
        }
      ],
      "source": [
        "# sklearn choose OvR or OvO by method and training data size\n",
        "# svc here uses OvO. sklearn trains 45 classifiers. \n",
        "\n",
        "from sklearn.svm import SVC\n",
        "svm_clf = SVC()\n",
        "svm_clf.fit(X_train, y_train)\n",
        "print(svm_clf.predict(some_digit))\n"
      ]
    },
    {
      "cell_type": "code",
      "execution_count": 42,
      "metadata": {
        "colab": {
          "base_uri": "https://localhost:8080/"
        },
        "id": "uNRK73tTYGZ3",
        "outputId": "792cc5e2-a426-4b5d-993b-5aaa3afec44f"
      },
      "outputs": [
        {
          "output_type": "execute_result",
          "data": {
            "text/plain": [
              "array([0, 1, 2, 3, 4, 5, 6, 7, 8, 9], dtype=uint8)"
            ]
          },
          "metadata": {},
          "execution_count": 42
        }
      ],
      "source": [
        "# sklearn assigns class labels by classes_\n",
        "# labels are sorted on value. \n",
        "\n",
        "svm_clf.classes_"
      ]
    },
    {
      "cell_type": "code",
      "execution_count": 43,
      "metadata": {
        "colab": {
          "base_uri": "https://localhost:8080/",
          "height": 54
        },
        "id": "ZncCIXAZWeWc",
        "outputId": "49a660fb-50b5-44f1-ce4b-131b118ee7a4"
      },
      "outputs": [
        {
          "output_type": "execute_result",
          "data": {
            "application/vnd.google.colaboratory.intrinsic+json": {
              "type": "string"
            },
            "text/plain": [
              "'\\nfrom sklearn.multiclass import OneVsRestClassifier\\novr_clf = OneVsRestClassifier(SVC())\\novr_clf.fit(X_train, y_train)\\novr_clf.predict(some_digit)\\n'"
            ]
          },
          "metadata": {},
          "execution_count": 43
        }
      ],
      "source": [
        "# can define method if needed\n",
        "'''\n",
        "from sklearn.multiclass import OneVsRestClassifier\n",
        "ovr_clf = OneVsRestClassifier(SVC())\n",
        "ovr_clf.fit(X_train, y_train)\n",
        "ovr_clf.predict(some_digit)\n",
        "'''"
      ]
    },
    {
      "cell_type": "code",
      "execution_count": 43,
      "metadata": {
        "id": "tNvJxnv1YqLG"
      },
      "outputs": [],
      "source": [
        "# sgd classifier uses one vs rest\n",
        "# trains 10 classifiers. \n",
        "sgd_clf.fit(X_train, y_train)\n",
        "print(sgd_clf.predict(some_digit))\n",
        "\n",
        "print(sgd_clf.decision_function(some_digit))\n",
        "\n",
        "\n"
      ]
    },
    {
      "cell_type": "code",
      "source": [
        "cross_val_score(sgd_clf, X_train, )"
      ],
      "metadata": {
        "id": "fArgWjfrpKJS"
      },
      "execution_count": null,
      "outputs": []
    }
  ],
  "metadata": {
    "accelerator": "GPU",
    "colab": {
      "name": "3. Classification.ipynb",
      "toc_visible": true,
      "provenance": [],
      "authorship_tag": "ABX9TyMnqICeWxfZt4nqq38KKL4r",
      "include_colab_link": true
    },
    "kernelspec": {
      "display_name": "Python 3",
      "name": "python3"
    },
    "language_info": {
      "name": "python"
    }
  },
  "nbformat": 4,
  "nbformat_minor": 0
}