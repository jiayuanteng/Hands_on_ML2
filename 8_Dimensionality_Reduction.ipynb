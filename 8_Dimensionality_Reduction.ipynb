{
  "nbformat": 4,
  "nbformat_minor": 0,
  "metadata": {
    "colab": {
      "name": "8. Dimensionality Reduction.ipynb",
      "provenance": [],
      "toc_visible": true,
      "authorship_tag": "ABX9TyPml/DkWmJYPwbWhGhzsert",
      "include_colab_link": true
    },
    "kernelspec": {
      "name": "python3",
      "display_name": "Python 3"
    },
    "language_info": {
      "name": "python"
    }
  },
  "cells": [
    {
      "cell_type": "markdown",
      "metadata": {
        "id": "view-in-github",
        "colab_type": "text"
      },
      "source": [
        "<a href=\"https://colab.research.google.com/github/jiayuanteng/Hands_on_ML2/blob/main/8_Dimensionality_Reduction.ipynb\" target=\"_parent\"><img src=\"https://colab.research.google.com/assets/colab-badge.svg\" alt=\"Open In Colab\"/></a>"
      ]
    },
    {
      "cell_type": "markdown",
      "source": [
        "# Curse of dimensionality\n",
        "If you pick two points randomly in a unit square, the distance between these two points will be, on average, roughly 0.52. If you pick two random points in a unit 3D cube, the average distance will be roughly 0.66. But what about two points picked randomly in a 1,000,000-dimensional hypercube? The average distance, believe it or not, will be about 408.25. \n",
        "\n",
        "High-dimensional datasets are at risk of being very sparse: most training instances are likely to be far away from each other.\n",
        "\n",
        "This also means that a new instance will likely be far away from any training instance, making predictions much less reliable than in lower dimensions, since they will be based on much larger extrapolations. In short, the more dimensions the training set has, the greater the risk of overfitting it.\n",
        "\n"
      ],
      "metadata": {
        "id": "VlqUf6FGaaMf"
      }
    },
    {
      "cell_type": "markdown",
      "source": [
        "# Approaches for dimensionality reduction\n",
        "## Principal component analysis (PCA)\n",
        "PCA identifies the axis that accouts for the largest amount of variance in the training set. It is reasonable to select the axis that preserves the maximum amount of variance, as it will most likely lose less information than the other projection. Another way to justify this choice is that it is the axis that minimizes the mean squared distance betweeen the original dataset and its projection onto that axis. \n",
        "\n",
        "1. The *first* principal component direction of the data is that along which the observations *vary the most*. The first principal component vector defines the line that is as close as possible to the data.\n",
        "2. The *second* principal component is arthogonal to the first one, and accounts for the largest amount of remaining variance. \n",
        "\n",
        "Suppose there are m features and n training instances, the first principal component is\n",
        "$Z_1 = [λ_1, λ_2, ⋯, λ_m] X$\n",
        "where X is a zero-centered matrix (X is demeaned)\n",
        "\n",
        "$ X = \n",
        "\\begin{pmatrix}\n",
        "x_{1,1} & x_{1,2} & \\cdots & x_{1,n}\\\\\n",
        "\\vdots  & \\vdots  & \\ddots & \\vdots \\\\ \n",
        "x_{m,1} & x_{m,2} & \\cdots & x_{m,n}\n",
        "\\end{pmatrix} \n",
        "$\n",
        "\n"
      ],
      "metadata": {
        "id": "L3egaD4JbMYr"
      }
    },
    {
      "cell_type": "code",
      "source": [
        "import numpy as np\n",
        "np.random.seed(4)\n",
        "m = 60\n",
        "w1, w2 = 0.1, 0.3\n",
        "noise = 0.1\n",
        "\n",
        "angles = np.random.rand(m) * 3 * np.pi / 2 - 0.5\n",
        "X = np.empty((m, 3))\n",
        "X[:, 0] = np.cos(angles) + np.sin(angles)/2 + noise * np.random.randn(m) / 2\n",
        "X[:, 1] = np.sin(angles) * 0.7 + noise * np.random.randn(m) / 2\n",
        "X[:, 2] = X[:, 0] * w1 + X[:, 1] * w2 + noise * np.random.randn(m)"
      ],
      "metadata": {
        "id": "ELEVi3iYaY_b"
      },
      "execution_count": 11,
      "outputs": []
    },
    {
      "cell_type": "code",
      "source": [
        "X_centered = X - X.mean(axis=0)\n",
        "U, s, Vt = np.linalg.svd(X_centered)\n",
        "c1 = Vt.T[:, 0]\n",
        "c2 = Vt.T[:, 1]"
      ],
      "metadata": {
        "id": "GEqcx4_ubL6R"
      },
      "execution_count": 12,
      "outputs": []
    },
    {
      "cell_type": "code",
      "execution_count": 13,
      "metadata": {
        "id": "zSDjPNImXz-l"
      },
      "outputs": [],
      "source": [
        "m, n = X.shape\n",
        "\n",
        "S = np.zeros(X_centered.shape)\n",
        "S[:n, :n] = np.diag(s)\n",
        "\n",
        "# project down to d dimensions\n",
        "W2 = Vt.T[:, :2]\n",
        "X2D_using_svd = X_centered.dot(W2)"
      ]
    },
    {
      "cell_type": "markdown",
      "source": [
        "## Using Scikit-Learn\n",
        "1. Code takes care of mean centering\n",
        "2. *explained_variance_ratio_* reports the proportion of the dataset's variance that lies along each principal component. \n",
        "3. Choose the right number of dimensions by defining a sufficiently large portion of the variance explained by the number of dimensions"
      ],
      "metadata": {
        "id": "VAI4VxuHryPE"
      }
    },
    {
      "cell_type": "code",
      "source": [
        "from sklearn.decomposition import PCA\n",
        "pca = PCA(n_components = 2)\n",
        "X2D = pca.fit_transform(X)"
      ],
      "metadata": {
        "id": "D_hSLs9jrnc-"
      },
      "execution_count": 9,
      "outputs": []
    },
    {
      "cell_type": "code",
      "source": [
        "X2D[:5]"
      ],
      "metadata": {
        "colab": {
          "base_uri": "https://localhost:8080/"
        },
        "id": "cExlJ8TbsELs",
        "outputId": "858e7a56-364e-46f2-ffae-ecf6c8bbcf6d"
      },
      "execution_count": 10,
      "outputs": [
        {
          "output_type": "execute_result",
          "data": {
            "text/plain": [
              "array([[ 1.26203346,  0.42067648],\n",
              "       [-0.08001485, -0.35272239],\n",
              "       [ 1.17545763,  0.36085729],\n",
              "       [ 0.89305601, -0.30862856],\n",
              "       [ 0.73016287, -0.25404049]])"
            ]
          },
          "metadata": {},
          "execution_count": 10
        }
      ]
    },
    {
      "cell_type": "code",
      "source": [
        "X2D_using_svd[:5]"
      ],
      "metadata": {
        "colab": {
          "base_uri": "https://localhost:8080/"
        },
        "id": "bABFekkWsGOe",
        "outputId": "2cc8fa18-8e96-4e3c-d002-d8b0c1bfdf2d"
      },
      "execution_count": 14,
      "outputs": [
        {
          "output_type": "execute_result",
          "data": {
            "text/plain": [
              "array([[-1.26203346, -0.42067648],\n",
              "       [ 0.08001485,  0.35272239],\n",
              "       [-1.17545763, -0.36085729],\n",
              "       [-0.89305601,  0.30862856],\n",
              "       [-0.73016287,  0.25404049]])"
            ]
          },
          "metadata": {},
          "execution_count": 14
        }
      ]
    },
    {
      "cell_type": "code",
      "source": [
        "pca.explained_variance_ratio_\n",
        "\n",
        "print(\"projecting to lower dimentions loses {:.2%} of variance\".format(1 - pca.explained_variance_ratio_.sum()))"
      ],
      "metadata": {
        "colab": {
          "base_uri": "https://localhost:8080/"
        },
        "id": "Tu_SK3ZBsNBt",
        "outputId": "b10a438a-5d50-4b94-8cfd-3cd23973887e"
      },
      "execution_count": 16,
      "outputs": [
        {
          "output_type": "stream",
          "name": "stdout",
          "text": [
            "projecting to lower dimentions loses 1.12% of variance\n"
          ]
        }
      ]
    },
    {
      "cell_type": "code",
      "source": [
        "from sklearn.datasets import fetch_openml\n",
        "from sklearn.model_selection import train_test_split\n",
        "\n",
        "mnist = fetch_openml('mnist_784', version=1, as_frame=False)\n",
        "mnist.target = mnist.target.astype(np.uint8)\n",
        "\n",
        "\n",
        "X = mnist[\"data\"]\n",
        "y = mnist[\"target\"]\n",
        "\n",
        "X_train, X_test, y_train, y_test = train_test_split(X, y)\n",
        "\n",
        "pca = PCA()\n",
        "pca.fit(X_train)\n",
        "\n",
        "cumsum = np.cumsum(pca.explained_variance_ratio_)\n",
        "d = np.argmax(cumsum >= 0.95) + 1"
      ],
      "metadata": {
        "id": "V4CtfiVNsVyy"
      },
      "execution_count": 19,
      "outputs": []
    },
    {
      "cell_type": "code",
      "source": [
        "# or run the following to use the right number of PCs\n",
        "pca = PCA(n_components = 0.95)\n",
        "X_reduced = pca.fit_transform(X_train)"
      ],
      "metadata": {
        "id": "uiFk-FiwtR1V"
      },
      "execution_count": 20,
      "outputs": []
    },
    {
      "cell_type": "code",
      "source": [
        "import matplotlib as mpl\n",
        "import matplotlib.pyplot as plt\n",
        "\n",
        "plt.figure(figsize=(6,4))\n",
        "plt.plot(cumsum, linewidth=3)\n",
        "plt.axis([0, 400, 0, 1])\n",
        "plt.xlabel(\"Dimensions\")\n",
        "plt.ylabel(\"Explained Variance\")\n",
        "plt.plot([d, d], [0, 0.95], \"k:\")\n",
        "plt.plot([0, d], [0.95, 0.95], \"k:\")\n",
        "plt.plot(d, 0.95, \"ko\")\n",
        "plt.annotate(\"Elbow\", xy=(65, 0.85), xytext=(70, 0.7),\n",
        "             arrowprops=dict(arrowstyle=\"->\"), fontsize=16)\n",
        "plt.grid(True)\n",
        "plt.show()"
      ],
      "metadata": {
        "colab": {
          "base_uri": "https://localhost:8080/",
          "height": 283
        },
        "id": "m9h-2X2mte6C",
        "outputId": "8cee4312-e9c6-4d88-dc01-6b859a531808"
      },
      "execution_count": 22,
      "outputs": [
        {
          "output_type": "display_data",
          "data": {
            "image/png": "[encoded data removed]",
            "text/plain": [
              "<Figure size 432x288 with 1 Axes>"
            ]
          },
          "metadata": {
            "needs_background": "light"
          }
        }
      ]
    },
    {
      "cell_type": "code",
      "source": [
        "cumsum"
      ],
      "metadata": {
        "colab": {
          "base_uri": "https://localhost:8080/"
        },
        "id": "ravbjNzst4eM",
        "outputId": "57cbb073-929b-42db-84a6-a8511f82f355"
      },
      "execution_count": 23,
      "outputs": [
        {
          "output_type": "execute_result",
          "data": {
            "text/plain": [
              "array([0.09792858, 0.16918255, 0.23058781, 0.28488202, 0.33394139,\n",
              "       0.37697755, 0.40965576, 0.43855474, 0.46609225, 0.48952161,\n",
              "       0.51047203, 0.5308378 , 0.54786123, 0.56475213, 0.5806216 ,\n",
              "       0.5954588 , 0.60867273, 0.6214041 , 0.63328935, 0.64482663,\n",
              "       0.65548608, 0.6656263 , 0.67523811, 0.68437167, 0.69322418,\n",
              "       0.70162074, 0.70970978, 0.71757011, 0.7249473 , 0.73182003,\n",
              "       0.73834683, 0.74479121, 0.7508099 , 0.75671383, 0.76238186,\n",
              "       0.76783612, 0.77286595, 0.77773048, 0.78251842, 0.78719169,\n",
              "       0.79174491, 0.79619636, 0.80036573, 0.8043255 , 0.80815976,\n",
              "       0.81190639, 0.81551796, 0.81899999, 0.8223805 , 0.82558925,\n",
              "       0.82876061, 0.83185067, 0.83483074, 0.83769869, 0.84052413,\n",
              "       0.84321858, 0.84590974, 0.84848407, 0.85102041, 0.85345062,\n",
              "       0.85585449, 0.85823931, 0.86052105, 0.86273756, 0.86485904,\n",
              "       0.86693298, 0.86895776, 0.87091498, 0.87282984, 0.87472256,\n",
              "       0.87658385, 0.87836792, 0.8801357 , 0.88186572, 0.8835084 ,\n",
              "       0.88514093, 0.88675302, 0.88829861, 0.8897762 , 0.89119348,\n",
              "       0.89260552, 0.89400957, 0.89540562, 0.8967549 , 0.89808427,\n",
              "       0.89940009, 0.90068494, 0.90193172, 0.9031605 , 0.90436732,\n",
              "       0.90553149, 0.9066768 , 0.90780303, 0.90889652, 0.9099825 ,\n",
              "       0.91105171, 0.91208923, 0.913119  , 0.91412948, 0.91512743,\n",
              "       0.91609819, 0.91704207, 0.9179794 , 0.91889208, 0.91979057,\n",
              "       0.92068419, 0.92154501, 0.92239915, 0.9232437 , 0.92406225,\n",
              "       0.92485053, 0.92562922, 0.9264014 , 0.92716508, 0.92792581,\n",
              "       0.92867526, 0.92940653, 0.93013026, 0.9308447 , 0.93154878,\n",
              "       0.93224362, 0.93293457, 0.93360833, 0.93427963, 0.93494038,\n",
              "       0.93558558, 0.93621845, 0.93684925, 0.93746945, 0.93806949,\n",
              "       0.93866681, 0.93926011, 0.93984812, 0.94043236, 0.9410113 ,\n",
              "       0.94158171, 0.94214396, 0.9426963 , 0.94323115, 0.94375509,\n",
              "       0.94427392, 0.94478635, 0.94528847, 0.94578739, 0.94628231,\n",
              "       0.94677523, 0.94725826, 0.94773817, 0.94820865, 0.9486755 ,\n",
              "       0.9491401 , 0.94960273, 0.95006088, 0.95050874, 0.95095546,\n",
              "       0.95139576, 0.95183222, 0.95225624, 0.95267848, 0.95309459,\n",
              "       0.95350553, 0.9539124 , 0.9543107 , 0.95470537, 0.95509626,\n",
              "       0.95548297, 0.95586297, 0.95623963, 0.95661487, 0.95698447,\n",
              "       0.9573501 , 0.9577154 , 0.95807609, 0.95843219, 0.95878594,\n",
              "       0.95913635, 0.95948344, 0.95982889, 0.96017119, 0.96050927,\n",
              "       0.96084228, 0.96117139, 0.96149669, 0.96182046, 0.96214341,\n",
              "       0.96246456, 0.96277991, 0.96309345, 0.96340249, 0.96370985,\n",
              "       0.96401503, 0.96431676, 0.96461787, 0.9649169 , 0.96521308,\n",
              "       0.96550727, 0.96579956, 0.96609162, 0.9663762 , 0.96665916,\n",
              "       0.96694007, 0.96721587, 0.96749081, 0.96776214, 0.96803056,\n",
              "       0.96829662, 0.96856056, 0.96882281, 0.9690847 , 0.96934272,\n",
              "       0.96960018, 0.96985632, 0.97011177, 0.97036408, 0.97061488,\n",
              "       0.97086279, 0.97110878, 0.9713518 , 0.97159448, 0.97183591,\n",
              "       0.97207538, 0.9723139 , 0.97255048, 0.97278701, 0.97301795,\n",
              "       0.97324725, 0.9734756 , 0.97370262, 0.97392834, 0.97415125,\n",
              "       0.97437227, 0.97459147, 0.97480821, 0.97502423, 0.97523836,\n",
              "       0.97545087, 0.97566188, 0.97587126, 0.97607837, 0.97628384,\n",
              "       0.97648803, 0.97669063, 0.97689168, 0.97709141, 0.97729005,\n",
              "       0.9774874 , 0.97768232, 0.9778751 , 0.97806706, 0.97825823,\n",
              "       0.97844852, 0.97863715, 0.97882319, 0.97900915, 0.97919448,\n",
              "       0.97937896, 0.9795626 , 0.97974521, 0.9799264 , 0.98010553,\n",
              "       0.98028245, 0.9804585 , 0.9806342 , 0.98080757, 0.98098019,\n",
              "       0.98115208, 0.98132182, 0.98149071, 0.98165893, 0.98182556,\n",
              "       0.98199191, 0.98215719, 0.98232083, 0.98248421, 0.98264625,\n",
              "       0.98280667, 0.98296579, 0.98312438, 0.98328143, 0.98343795,\n",
              "       0.98359332, 0.98374817, 0.98390137, 0.98405312, 0.9842043 ,\n",
              "       0.98435406, 0.98450312, 0.98465107, 0.98479724, 0.98494239,\n",
              "       0.98508675, 0.98522975, 0.98537266, 0.9855137 , 0.9856542 ,\n",
              "       0.98579441, 0.98593219, 0.98606943, 0.98620559, 0.98634046,\n",
              "       0.98647486, 0.98660825, 0.98674056, 0.98687276, 0.98700364,\n",
              "       0.98713248, 0.98726086, 0.98738866, 0.98751522, 0.98764138,\n",
              "       0.98776665, 0.98789163, 0.98801573, 0.98813882, 0.98826082,\n",
              "       0.98838212, 0.98850235, 0.98862121, 0.98873996, 0.98885788,\n",
              "       0.98897492, 0.98909108, 0.98920702, 0.98932231, 0.989437  ,\n",
              "       0.98955098, 0.98966234, 0.98977331, 0.98988315, 0.98999237,\n",
              "       0.99010103, 0.99020885, 0.99031635, 0.99042339, 0.99052978,\n",
              "       0.99063528, 0.99074021, 0.99084445, 0.99094729, 0.9910499 ,\n",
              "       0.99115119, 0.99125152, 0.99135178, 0.99145066, 0.99154921,\n",
              "       0.99164721, 0.99174423, 0.99184082, 0.99193529, 0.99202944,\n",
              "       0.99212332, 0.9922164 , 0.99230877, 0.99240001, 0.99249067,\n",
              "       0.99258103, 0.99267058, 0.99275934, 0.99284743, 0.99293471,\n",
              "       0.99302121, 0.99310722, 0.99319278, 0.99327738, 0.99336153,\n",
              "       0.99344503, 0.9935274 , 0.9936094 , 0.99369132, 0.99377206,\n",
              "       0.99385243, 0.9939315 , 0.99400996, 0.99408786, 0.99416528,\n",
              "       0.99424201, 0.99431813, 0.99439349, 0.99446791, 0.99454175,\n",
              "       0.99461513, 0.99468753, 0.99475962, 0.99483115, 0.9949025 ,\n",
              "       0.99497228, 0.9950414 , 0.99511008, 0.99517767, 0.99524474,\n",
              "       0.99531103, 0.99537683, 0.99544106, 0.99550476, 0.99556837,\n",
              "       0.99563166, 0.99569339, 0.99575392, 0.99581378, 0.9958732 ,\n",
              "       0.99593186, 0.99599031, 0.99604803, 0.996105  , 0.99616112,\n",
              "       0.99621704, 0.99627249, 0.9963268 , 0.99638093, 0.99643484,\n",
              "       0.99648745, 0.99653995, 0.99659187, 0.99664325, 0.99669365,\n",
              "       0.99674359, 0.99679313, 0.99684228, 0.99689109, 0.99693914,\n",
              "       0.99698662, 0.99703351, 0.9970801 , 0.99712611, 0.99717108,\n",
              "       0.99721561, 0.99725877, 0.99730107, 0.99734326, 0.99738536,\n",
              "       0.99742657, 0.99746717, 0.99750747, 0.99754754, 0.99758709,\n",
              "       0.99762565, 0.99766386, 0.99770145, 0.997739  , 0.99777606,\n",
              "       0.99781279, 0.99784903, 0.99788409, 0.99791907, 0.99795385,\n",
              "       0.99798829, 0.9980224 , 0.99805629, 0.99808919, 0.99812179,\n",
              "       0.99815368, 0.9981854 , 0.9982165 , 0.99824685, 0.99827667,\n",
              "       0.99830601, 0.99833481, 0.99836346, 0.99839186, 0.99841992,\n",
              "       0.99844725, 0.99847443, 0.99850137, 0.9985279 , 0.99855346,\n",
              "       0.99857861, 0.99860362, 0.99862817, 0.99865238, 0.99867642,\n",
              "       0.99870037, 0.99872414, 0.9987476 , 0.9987707 , 0.99879375,\n",
              "       0.99881646, 0.99883857, 0.99885983, 0.99888102, 0.99890196,\n",
              "       0.99892276, 0.99894327, 0.99896337, 0.99898316, 0.99900257,\n",
              "       0.99902188, 0.99904076, 0.99905942, 0.99907796, 0.9990962 ,\n",
              "       0.9991142 , 0.99913199, 0.99914896, 0.99916575, 0.99918209,\n",
              "       0.9991981 , 0.99921404, 0.9992298 , 0.99924521, 0.99926047,\n",
              "       0.99927562, 0.99929055, 0.99930517, 0.99931931, 0.99933332,\n",
              "       0.9993471 , 0.99936062, 0.99937411, 0.99938723, 0.9994003 ,\n",
              "       0.99941319, 0.99942598, 0.99943825, 0.99945028, 0.99946212,\n",
              "       0.99947388, 0.99948561, 0.99949713, 0.99950852, 0.99951978,\n",
              "       0.99953095, 0.99954202, 0.99955303, 0.99956373, 0.99957408,\n",
              "       0.99958425, 0.99959417, 0.99960378, 0.99961308, 0.99962238,\n",
              "       0.99963147, 0.99964041, 0.99964911, 0.99965749, 0.9996655 ,\n",
              "       0.99967331, 0.99968103, 0.99968867, 0.99969623, 0.99970374,\n",
              "       0.99971122, 0.9997186 , 0.9997259 , 0.99973296, 0.99973995,\n",
              "       0.99974678, 0.99975355, 0.99976002, 0.99976647, 0.99977287,\n",
              "       0.99977901, 0.99978506, 0.99979073, 0.99979612, 0.9998014 ,\n",
              "       0.99980665, 0.99981182, 0.99981684, 0.99982179, 0.99982666,\n",
              "       0.99983149, 0.99983629, 0.99984083, 0.99984532, 0.99984975,\n",
              "       0.99985415, 0.99985847, 0.99986276, 0.99986688, 0.9998708 ,\n",
              "       0.99987468, 0.99987856, 0.99988239, 0.99988577, 0.99988903,\n",
              "       0.99989225, 0.99989546, 0.9998986 , 0.99990173, 0.99990477,\n",
              "       0.99990775, 0.9999107 , 0.99991359, 0.99991643, 0.99991923,\n",
              "       0.9999218 , 0.99992436, 0.99992679, 0.99992903, 0.99993126,\n",
              "       0.99993343, 0.99993555, 0.99993765, 0.99993973, 0.99994179,\n",
              "       0.99994378, 0.99994568, 0.9999475 , 0.99994932, 0.9999511 ,\n",
              "       0.99995286, 0.9999546 , 0.99995623, 0.99995785, 0.99995938,\n",
              "       0.9999609 , 0.99996239, 0.99996377, 0.99996509, 0.99996639,\n",
              "       0.99996763, 0.99996881, 0.99996999, 0.99997115, 0.99997226,\n",
              "       0.99997337, 0.99997446, 0.99997552, 0.99997654, 0.9999775 ,\n",
              "       0.9999784 , 0.99997925, 0.99998009, 0.99998091, 0.99998172,\n",
              "       0.99998251, 0.99998325, 0.99998398, 0.99998465, 0.99998532,\n",
              "       0.99998598, 0.99998663, 0.99998724, 0.99998785, 0.99998841,\n",
              "       0.99998897, 0.9999895 , 0.99999002, 0.99999051, 0.999991  ,\n",
              "       0.99999148, 0.99999193, 0.99999238, 0.9999928 , 0.99999319,\n",
              "       0.99999357, 0.99999394, 0.9999943 , 0.99999466, 0.999995  ,\n",
              "       0.99999531, 0.9999956 , 0.99999589, 0.99999616, 0.99999642,\n",
              "       0.99999668, 0.99999692, 0.99999714, 0.99999734, 0.99999752,\n",
              "       0.9999977 , 0.99999786, 0.99999802, 0.99999816, 0.9999983 ,\n",
              "       0.99999843, 0.99999854, 0.99999865, 0.99999875, 0.99999885,\n",
              "       0.99999895, 0.99999903, 0.99999911, 0.99999919, 0.99999926,\n",
              "       0.99999934, 0.9999994 , 0.99999946, 0.99999951, 0.99999956,\n",
              "       0.99999961, 0.99999965, 0.99999969, 0.99999972, 0.99999976,\n",
              "       0.99999979, 0.99999981, 0.99999983, 0.99999985, 0.99999987,\n",
              "       0.99999989, 0.9999999 , 0.99999991, 0.99999993, 0.99999994,\n",
              "       0.99999995, 0.99999996, 0.99999996, 0.99999997, 0.99999998,\n",
              "       0.99999998, 0.99999999, 0.99999999, 0.99999999, 1.        ,\n",
              "       1.        , 1.        , 1.        , 1.        , 1.        ,\n",
              "       1.        , 1.        , 1.        , 1.        , 1.        ,\n",
              "       1.        , 1.        , 1.        , 1.        , 1.        ,\n",
              "       1.        , 1.        , 1.        , 1.        , 1.        ,\n",
              "       1.        , 1.        , 1.        , 1.        , 1.        ,\n",
              "       1.        , 1.        , 1.        , 1.        , 1.        ,\n",
              "       1.        , 1.        , 1.        , 1.        , 1.        ,\n",
              "       1.        , 1.        , 1.        , 1.        , 1.        ,\n",
              "       1.        , 1.        , 1.        , 1.        , 1.        ,\n",
              "       1.        , 1.        , 1.        , 1.        , 1.        ,\n",
              "       1.        , 1.        , 1.        , 1.        , 1.        ,\n",
              "       1.        , 1.        , 1.        , 1.        , 1.        ,\n",
              "       1.        , 1.        , 1.        , 1.        , 1.        ,\n",
              "       1.        , 1.        , 1.        , 1.        , 1.        ,\n",
              "       1.        , 1.        , 1.        , 1.        , 1.        ,\n",
              "       1.        , 1.        , 1.        , 1.        ])"
            ]
          },
          "metadata": {},
          "execution_count": 23
        }
      ]
    },
    {
      "cell_type": "code",
      "source": [
        ""
      ],
      "metadata": {
        "id": "6HYM-deOuAnN"
      },
      "execution_count": null,
      "outputs": []
    }
  ]
}