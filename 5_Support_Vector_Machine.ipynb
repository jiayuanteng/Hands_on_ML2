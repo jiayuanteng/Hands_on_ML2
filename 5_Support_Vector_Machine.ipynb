{
  "nbformat": 4,
  "nbformat_minor": 0,
  "metadata": {
    "colab": {
      "name": "5. Support Vector Machine.ipynb",
      "provenance": [],
      "toc_visible": true,
      "authorship_tag": "ABX9TyMX2QUkIUqBAFiPKD9FIofm",
      "include_colab_link": true
    },
    "kernelspec": {
      "name": "python3",
      "display_name": "Python 3"
    },
    "language_info": {
      "name": "python"
    }
  },
  "cells": [
    {
      "cell_type": "markdown",
      "metadata": {
        "id": "view-in-github",
        "colab_type": "text"
      },
      "source": [
        "<a href=\"https://colab.research.google.com/github/jiayuanteng/Hands_on_ML2/blob/main/5_Support_Vector_Machine.ipynb\" target=\"_parent\"><img src=\"https://colab.research.google.com/assets/colab-badge.svg\" alt=\"Open In Colab\"/></a>"
      ]
    },
    {
      "cell_type": "markdown",
      "source": [
        "# Iris dataset\n"
      ],
      "metadata": {
        "id": "1QEwT7GHM083"
      }
    },
    {
      "cell_type": "code",
      "execution_count": 2,
      "metadata": {
        "id": "u8kXBCuCMwuU"
      },
      "outputs": [],
      "source": [
        "import numpy as np\n",
        "from sklearn import datasets\n",
        "from sklearn.pipeline import Pipeline\n",
        "from sklearn.preprocessing import StandardScaler\n",
        "from sklearn.svm import LinearSVC, SVC\n",
        "\n"
      ]
    },
    {
      "cell_type": "markdown",
      "source": [
        "# Support Vector Machine (Soft Margin Classifier)\n",
        "One can work out oportimization problem of SVM as the Lagrange function below, where n is # of instances in the training data and p is # of features. The first term is a loss function (hinge loss). The second term is a regularization.  \n",
        "  \n",
        "\n",
        "Ł = $\\sum_{n=1}^{n}max[0, 1-y_{i}(\\beta_{0}+\n",
        "\\beta_{1}x_{i1} +...+ \\beta_{p}x_{ip})]\n",
        "+ λ\\sum_{j=1}^{p}\\beta_{j}^2$\n",
        "\n",
        "\n",
        "λ is nonnegative tuning parameter. It is equivalent to the cost parameter C that regularizes # of violations to the margin. When λ is large, β is small and more voilations to margin are tolerated and a low-variance and high-margin classifier will result.\n",
        "\n",
        "\n",
        "\n"
      ],
      "metadata": {
        "id": "iuDkzTJ8_G74"
      }
    },
    {
      "cell_type": "code",
      "source": [
        "iris = datasets.load_iris()\n",
        "iris.keys()"
      ],
      "metadata": {
        "colab": {
          "base_uri": "https://localhost:8080/"
        },
        "id": "qEZRHHQ0_BiZ",
        "outputId": "7a7323ed-fb71-4bd4-d901-838253f69f9e"
      },
      "execution_count": 3,
      "outputs": [
        {
          "output_type": "execute_result",
          "data": {
            "text/plain": [
              "dict_keys(['data', 'target', 'frame', 'target_names', 'DESCR', 'feature_names', 'filename', 'data_module'])"
            ]
          },
          "metadata": {},
          "execution_count": 3
        }
      ]
    },
    {
      "cell_type": "code",
      "source": [
        "iris['DESCR']"
      ],
      "metadata": {
        "colab": {
          "base_uri": "https://localhost:8080/",
          "height": 259
        },
        "id": "HVvcrmJGF9Pc",
        "outputId": "f4e2ff29-531b-477e-c4bd-cb470403fbe6"
      },
      "execution_count": 4,
      "outputs": [
        {
          "output_type": "execute_result",
          "data": {
            "application/vnd.google.colaboratory.intrinsic+json": {
              "type": "string"
            },
            "text/plain": [
              "'.. _iris_dataset:\\n\\nIris plants dataset\\n--------------------\\n\\n**Data Set Characteristics:**\\n\\n    :Number of Instances: 150 (50 in each of three classes)\\n    :Number of Attributes: 4 numeric, predictive attributes and the class\\n    :Attribute Information:\\n        - sepal length in cm\\n        - sepal width in cm\\n        - petal length in cm\\n        - petal width in cm\\n        - class:\\n                - Iris-Setosa\\n                - Iris-Versicolour\\n                - Iris-Virginica\\n                \\n    :Summary Statistics:\\n\\n    ============== ==== ==== ======= ===== ====================\\n                    Min  Max   Mean    SD   Class Correlation\\n    ============== ==== ==== ======= ===== ====================\\n    sepal length:   4.3  7.9   5.84   0.83    0.7826\\n    sepal width:    2.0  4.4   3.05   0.43   -0.4194\\n    petal length:   1.0  6.9   3.76   1.76    0.9490  (high!)\\n    petal width:    0.1  2.5   1.20   0.76    0.9565  (high!)\\n    ============== ==== ==== ======= ===== ====================\\n\\n    :Missing Attribute Values: None\\n    :Class Distribution: 33.3% for each of 3 classes.\\n    :Creator: R.A. Fisher\\n    :Donor: Michael Marshall (MARSHALL%PLU@io.arc.nasa.gov)\\n    :Date: July, 1988\\n\\nThe famous Iris database, first used by Sir R.A. Fisher. The dataset is taken\\nfrom Fisher\\'s paper. Note that it\\'s the same as in R, but not as in the UCI\\nMachine Learning Repository, which has two wrong data points.\\n\\nThis is perhaps the best known database to be found in the\\npattern recognition literature.  Fisher\\'s paper is a classic in the field and\\nis referenced frequently to this day.  (See Duda & Hart, for example.)  The\\ndata set contains 3 classes of 50 instances each, where each class refers to a\\ntype of iris plant.  One class is linearly separable from the other 2; the\\nlatter are NOT linearly separable from each other.\\n\\n.. topic:: References\\n\\n   - Fisher, R.A. \"The use of multiple measurements in taxonomic problems\"\\n     Annual Eugenics, 7, Part II, 179-188 (1936); also in \"Contributions to\\n     Mathematical Statistics\" (John Wiley, NY, 1950).\\n   - Duda, R.O., & Hart, P.E. (1973) Pattern Classification and Scene Analysis.\\n     (Q327.D83) John Wiley & Sons.  ISBN 0-471-22361-1.  See page 218.\\n   - Dasarathy, B.V. (1980) \"Nosing Around the Neighborhood: A New System\\n     Structure and Classification Rule for Recognition in Partially Exposed\\n     Environments\".  IEEE Transactions on Pattern Analysis and Machine\\n     Intelligence, Vol. PAMI-2, No. 1, 67-71.\\n   - Gates, G.W. (1972) \"The Reduced Nearest Neighbor Rule\".  IEEE Transactions\\n     on Information Theory, May 1972, 431-433.\\n   - See also: 1988 MLC Proceedings, 54-64.  Cheeseman et al\"s AUTOCLASS II\\n     conceptual clustering system finds 3 classes in the data.\\n   - Many, many more ...'"
            ]
          },
          "metadata": {},
          "execution_count": 4
        }
      ]
    },
    {
      "cell_type": "code",
      "source": [
        "iris['feature_names']"
      ],
      "metadata": {
        "colab": {
          "base_uri": "https://localhost:8080/"
        },
        "id": "zv2Mz1wtGFvT",
        "outputId": "07f9dff5-4f43-4cfd-e0e1-ce2719295d78"
      },
      "execution_count": 5,
      "outputs": [
        {
          "output_type": "execute_result",
          "data": {
            "text/plain": [
              "['sepal length (cm)',\n",
              " 'sepal width (cm)',\n",
              " 'petal length (cm)',\n",
              " 'petal width (cm)']"
            ]
          },
          "metadata": {},
          "execution_count": 5
        }
      ]
    },
    {
      "cell_type": "code",
      "source": [
        "# select petal length, petal width in X\n",
        "# select iris virginica in y\n",
        "\n",
        "X = iris['data'][:, (2, 3)]\n",
        "y = (iris['target'] == 2).astype(np.float64)"
      ],
      "metadata": {
        "id": "KHHdJTucGeBz"
      },
      "execution_count": 6,
      "outputs": []
    },
    {
      "cell_type": "code",
      "source": [
        "svm_clf = Pipeline([\n",
        "                    (\"scaler\", StandardScaler()),\n",
        "                    (\"linear_svc\", LinearSVC(C=1, loss = \"hinge\")),\n",
        "\n",
        "])\n",
        "svm_clf.fit(X, y)"
      ],
      "metadata": {
        "colab": {
          "base_uri": "https://localhost:8080/"
        },
        "id": "MrinZXTuHMhZ",
        "outputId": "c49bbd59-5d58-46a0-8a39-ee6b05974b10"
      },
      "execution_count": 7,
      "outputs": [
        {
          "output_type": "execute_result",
          "data": {
            "text/plain": [
              "Pipeline(steps=[('scaler', StandardScaler()),\n",
              "                ('linear_svc', LinearSVC(C=1, loss='hinge'))])"
            ]
          },
          "metadata": {},
          "execution_count": 7
        }
      ]
    },
    {
      "cell_type": "code",
      "source": [
        "svm_clf.predict([[5.5, 1.7]])"
      ],
      "metadata": {
        "colab": {
          "base_uri": "https://localhost:8080/"
        },
        "id": "OdnT57suHxhH",
        "outputId": "2f9515a1-2ea3-4ec2-e353-75b6ec47aac0"
      },
      "execution_count": 8,
      "outputs": [
        {
          "output_type": "execute_result",
          "data": {
            "text/plain": [
              "array([1.])"
            ]
          },
          "metadata": {},
          "execution_count": 8
        }
      ]
    },
    {
      "cell_type": "code",
      "source": [
        "# add non-linearity inyo LinearSVC\n",
        "\n",
        "from sklearn.datasets import make_moons\n",
        "from sklearn.preprocessing import PolynomialFeatures\n",
        "\n",
        "X, y = make_moons(n_samples = 100, noise = 0.15, random_state=42)\n",
        "polynomial_svm_clf = Pipeline([\n",
        "                              (\"poly_features\", PolynomialFeatures(degree=3)),\n",
        "                              (\"scaler\", StandardScaler()),\n",
        "                              (\"svm_clf\", LinearSVC(C=10, loss=\"hinge\", random_state=42))\n",
        "])\n",
        "\n"
      ],
      "metadata": {
        "id": "bxYSMl9TH1Ic"
      },
      "execution_count": 9,
      "outputs": []
    },
    {
      "cell_type": "code",
      "source": [
        "polynomial_svm_clf.fit(X, y)"
      ],
      "metadata": {
        "colab": {
          "base_uri": "https://localhost:8080/"
        },
        "id": "obctE2i-kmPe",
        "outputId": "78eba2b0-274f-4078-ade4-6b6b8d515c80"
      },
      "execution_count": 10,
      "outputs": [
        {
          "output_type": "stream",
          "name": "stderr",
          "text": [
            "/usr/local/lib/python3.7/dist-packages/sklearn/svm/_base.py:1208: ConvergenceWarning: Liblinear failed to converge, increase the number of iterations.\n",
            "  ConvergenceWarning,\n"
          ]
        },
        {
          "output_type": "execute_result",
          "data": {
            "text/plain": [
              "Pipeline(steps=[('poly_features', PolynomialFeatures(degree=3)),\n",
              "                ('scaler', StandardScaler()),\n",
              "                ('svm_clf', LinearSVC(C=10, loss='hinge', random_state=42))])"
            ]
          },
          "metadata": {},
          "execution_count": 10
        }
      ]
    },
    {
      "cell_type": "code",
      "source": [
        "poly_kernel_svm_clf = Pipeline([\n",
        "                                (\"scaler\", StandardScaler()),\n",
        "                                (\"svm_clf\", SVC(C = 5, kernel = \"poly\", degree = 3, coef0 = 1))\n",
        "\n",
        "])\n",
        "\n",
        "poly_kernel_svm_clf.fit(X, y)"
      ],
      "metadata": {
        "colab": {
          "base_uri": "https://localhost:8080/"
        },
        "id": "440a8hh_kp_i",
        "outputId": "a5259fe3-f204-4b3e-db94-aa7edbc0d2fc"
      },
      "execution_count": 11,
      "outputs": [
        {
          "output_type": "execute_result",
          "data": {
            "text/plain": [
              "Pipeline(steps=[('scaler', StandardScaler()),\n",
              "                ('svm_clf', SVC(C=5, coef0=1, kernel='poly'))])"
            ]
          },
          "metadata": {},
          "execution_count": 11
        }
      ]
    },
    {
      "cell_type": "markdown",
      "source": [
        "# Tackle nonlinearity: \n",
        "1. use polynomial function, e.g., degress = 3: $x+x^{2}+x^{3}$. Can acheive this using LinearSVC\n",
        "2. add features computed with a similarity function which measures how much each instance resembles a particular landmark. Can achieve this using SVC with a defined kernel function"
      ],
      "metadata": {
        "id": "X1iU4lEyLUGJ"
      }
    },
    {
      "cell_type": "code",
      "source": [
        "# Plot classifer\n",
        "import matplotlib.pyplot as plt\n",
        "\n",
        "\n",
        "def plot_dataset(X, y, axes):\n",
        "    plt.plot(X[:, 0][y==0], X[:, 1][y==0], \"bs\")\n",
        "    plt.plot(X[:, 0][y==1], X[:, 1][y==1], \"g^\")\n",
        "    plt.axis(axes)\n",
        "    plt.grid(True, which='both')\n",
        "    plt.xlabel(r\"$x_1$\", fontsize=20)\n",
        "    plt.ylabel(r\"$x_2$\", fontsize=20, rotation=0)\n",
        "\n",
        "\n",
        "\n",
        "def plot_prediction(clf, axes):\n",
        "  x0s = np.linspace(axes[0], axes[1], 100)\n",
        "  x1s = np.linspace(axes[2], axes[3], 100)\n",
        "  # change x0s to 100 by 100\n",
        "  x0, x1 = np.meshgrid(x0s, x1s)\n",
        "  # flatten x0s. shape becoems 1D 10000\n",
        "  X = np.c_[x0.ravel(), x1.ravel()]\n",
        "  y_pred = clf.predict(X).reshape(x0.shape)\n",
        "  y_decision = clf.decision_function(X).reshape(x0.shape)\n",
        "  plt.contourf(x0, x1, y_pred, cmap = plt.cm.brg, alpha = 0.2)\n",
        "  plt.contourf(x0, x1, y_decision, cmap = plt.cm.brg, alpha = 0.2)\n",
        "\n",
        "plot_prediction(polynomial_svm_clf, [-1.5, 2.5, -1, 1.5])\n",
        "X, y = make_moons(n_samples = 100, noise = 0.15, random_state=42)\n",
        "plot_dataset(X, y, [-1.5, 2.5, -1, 1.5])"
      ],
      "metadata": {
        "colab": {
          "base_uri": "https://localhost:8080/",
          "height": 292
        },
        "id": "QXAE9AvHmK_h",
        "outputId": "d390ee9a-dcac-481a-f2c8-b35b1f6a849f"
      },
      "execution_count": 62,
      "outputs": [
        {
          "output_type": "display_data",
          "data": {
            "image/png": "[encoded data removed]",
            "text/plain": [
              "<Figure size 432x288 with 1 Axes>"
            ]
          },
          "metadata": {
            "needs_background": "light"
          }
        }
      ]
    },
    {
      "cell_type": "code",
      "source": [
        "# use Gaussian Radial Basis Function (RBF ) as similarity function\n",
        "def rbf(x_l, gamma = -0.3):\n",
        "  return np.exp(gamma*x_l**2)\n",
        "\n",
        "def similarity_feature(raw_data, x0_2, x0_3, gamma = -0.3):\n",
        "  x2 = np.exp(gamma*np.abs(raw_data - x0_2)**2)\n",
        "  x3 = np.exp(gamma*np.abs(raw_data - x0_3)**2)\n",
        "\n",
        "  return x2, x3\n",
        "\n",
        "g1 = np.array([-4, -3, 3, 4])\n",
        "g2 = np.array([-2, -1, 0, 1, 2])\n",
        "\n",
        "x0_2 = np.array([-2])\n",
        "x0_3 = np.array([1])\n",
        "\n",
        "\n",
        "g1_x2, g1_x3 = similarity_feature(g1,x0_2, x0_3)\n",
        "\n",
        "g2_x2, g2_x3 = similarity_feature(g2,x0_2, x0_3)\n",
        "\n",
        "plt.grid(True, which='both')\n",
        "plt.plot(g1_x2, g1_x3, \"bs\")\n",
        "plt.plot(g2_x2, g2_x3, \"g^\")\n",
        "plt.xlabel(r\"$x_2$\", fontsize=20)\n",
        "plt.ylabel(r\"$x_3$\", fontsize=20)\n",
        "plt.axhline(y=0, color='b', linestyle='-')\n",
        "plt.axvline(x=0, color='b', linestyle='-')\n",
        "plt.plot([-0.1, 1.1], [0.57, -0.1], \"r--\", linewidth=3)\n",
        "plt.show()"
      ],
      "metadata": {
        "colab": {
          "base_uri": "https://localhost:8080/",
          "height": 288
        },
        "id": "lFXyOcKXoW4f",
        "outputId": "e2ebc138-8408-48b2-bdcd-ad48bbe60524"
      },
      "execution_count": 98,
      "outputs": [
        {
          "output_type": "display_data",
          "data": {
            "image/png": "[encoded data removed]",
            "text/plain": [
              "<Figure size 432x288 with 1 Axes>"
            ]
          },
          "metadata": {
            "needs_background": "light"
          }
        }
      ]
    },
    {
      "cell_type": "code",
      "source": [
        "rbf_kernel_svm_clf = Pipeline([\n",
        "                               (\"scaler\", StandardScaler()),\n",
        "                               (\"svm_clf\", SVC(kernel = \"rbf\", gamma = 5, C = 0.001))\n",
        "                               \n",
        "])\n",
        "rbf_kernel_svm_clf.fit(X, y)"
      ],
      "metadata": {
        "colab": {
          "base_uri": "https://localhost:8080/"
        },
        "id": "FqtJWndepX3x",
        "outputId": "6e9c78f3-aec9-4ad7-8850-ee5844896661"
      },
      "execution_count": 99,
      "outputs": [
        {
          "output_type": "execute_result",
          "data": {
            "text/plain": [
              "Pipeline(steps=[('scaler', StandardScaler()),\n",
              "                ('svm_clf', SVC(C=0.001, gamma=5))])"
            ]
          },
          "metadata": {},
          "execution_count": 99
        }
      ]
    },
    {
      "cell_type": "code",
      "source": [
        "np.abs(raw_data - x0_3)"
      ],
      "metadata": {
        "colab": {
          "base_uri": "https://localhost:8080/"
        },
        "id": "qSVk5dOdpYtM",
        "outputId": "fa74312f-d35f-41a3-c9e1-b549a9c0ea21"
      },
      "execution_count": 85,
      "outputs": [
        {
          "output_type": "execute_result",
          "data": {
            "text/plain": [
              "array([5, 4, 2, 3])"
            ]
          },
          "metadata": {},
          "execution_count": 85
        }
      ]
    },
    {
      "cell_type": "code",
      "source": [
        "plt.scatter(x2, x3)"
      ],
      "metadata": {
        "colab": {
          "base_uri": "https://localhost:8080/",
          "height": 282
        },
        "id": "PdaYg_AJpjcb",
        "outputId": "9f2138aa-c50c-468c-9a67-0cded71b59c2"
      },
      "execution_count": 88,
      "outputs": [
        {
          "output_type": "execute_result",
          "data": {
            "text/plain": [
              "<matplotlib.collections.PathCollection at 0x7f10f3690890>"
            ]
          },
          "metadata": {},
          "execution_count": 88
        },
        {
          "output_type": "display_data",
          "data": {
            "image/png": "[encoded data removed]",
            "text/plain": [
              "<Figure size 432x288 with 1 Axes>"
            ]
          },
          "metadata": {
            "needs_background": "light"
          }
        }
      ]
    },
    {
      "cell_type": "code",
      "source": [
        "x0"
      ],
      "metadata": {
        "colab": {
          "base_uri": "https://localhost:8080/"
        },
        "id": "SBv5XftBpknZ",
        "outputId": "53c81cdb-b134-4764-d35d-9ba10f521cbd"
      },
      "execution_count": 49,
      "outputs": [
        {
          "output_type": "execute_result",
          "data": {
            "text/plain": [
              "array([[-1.5       , -1.45959596, -1.41919192, ...,  2.41919192,\n",
              "         2.45959596,  2.5       ],\n",
              "       [-1.5       , -1.45959596, -1.41919192, ...,  2.41919192,\n",
              "         2.45959596,  2.5       ],\n",
              "       [-1.5       , -1.45959596, -1.41919192, ...,  2.41919192,\n",
              "         2.45959596,  2.5       ],\n",
              "       ...,\n",
              "       [-1.5       , -1.45959596, -1.41919192, ...,  2.41919192,\n",
              "         2.45959596,  2.5       ],\n",
              "       [-1.5       , -1.45959596, -1.41919192, ...,  2.41919192,\n",
              "         2.45959596,  2.5       ],\n",
              "       [-1.5       , -1.45959596, -1.41919192, ...,  2.41919192,\n",
              "         2.45959596,  2.5       ]])"
            ]
          },
          "metadata": {},
          "execution_count": 49
        }
      ]
    },
    {
      "cell_type": "code",
      "source": [
        "x0.ravel()[:103]"
      ],
      "metadata": {
        "colab": {
          "base_uri": "https://localhost:8080/"
        },
        "id": "a8rUTqcIpnD0",
        "outputId": "ca0044e6-98ba-4fff-b3b8-f5e6c027cc46"
      },
      "execution_count": 58,
      "outputs": [
        {
          "output_type": "execute_result",
          "data": {
            "text/plain": [
              "array([-1.5       , -1.45959596, -1.41919192, -1.37878788, -1.33838384,\n",
              "       -1.2979798 , -1.25757576, -1.21717172, -1.17676768, -1.13636364,\n",
              "       -1.0959596 , -1.05555556, -1.01515152, -0.97474747, -0.93434343,\n",
              "       -0.89393939, -0.85353535, -0.81313131, -0.77272727, -0.73232323,\n",
              "       -0.69191919, -0.65151515, -0.61111111, -0.57070707, -0.53030303,\n",
              "       -0.48989899, -0.44949495, -0.40909091, -0.36868687, -0.32828283,\n",
              "       -0.28787879, -0.24747475, -0.20707071, -0.16666667, -0.12626263,\n",
              "       -0.08585859, -0.04545455, -0.00505051,  0.03535354,  0.07575758,\n",
              "        0.11616162,  0.15656566,  0.1969697 ,  0.23737374,  0.27777778,\n",
              "        0.31818182,  0.35858586,  0.3989899 ,  0.43939394,  0.47979798,\n",
              "        0.52020202,  0.56060606,  0.6010101 ,  0.64141414,  0.68181818,\n",
              "        0.72222222,  0.76262626,  0.8030303 ,  0.84343434,  0.88383838,\n",
              "        0.92424242,  0.96464646,  1.00505051,  1.04545455,  1.08585859,\n",
              "        1.12626263,  1.16666667,  1.20707071,  1.24747475,  1.28787879,\n",
              "        1.32828283,  1.36868687,  1.40909091,  1.44949495,  1.48989899,\n",
              "        1.53030303,  1.57070707,  1.61111111,  1.65151515,  1.69191919,\n",
              "        1.73232323,  1.77272727,  1.81313131,  1.85353535,  1.89393939,\n",
              "        1.93434343,  1.97474747,  2.01515152,  2.05555556,  2.0959596 ,\n",
              "        2.13636364,  2.17676768,  2.21717172,  2.25757576,  2.2979798 ,\n",
              "        2.33838384,  2.37878788,  2.41919192,  2.45959596,  2.5       ,\n",
              "       -1.5       , -1.45959596, -1.41919192])"
            ]
          },
          "metadata": {},
          "execution_count": 58
        }
      ]
    },
    {
      "cell_type": "code",
      "source": [
        ""
      ],
      "metadata": {
        "id": "C6ehgwlApqsT"
      },
      "execution_count": 18,
      "outputs": []
    }
  ]
}